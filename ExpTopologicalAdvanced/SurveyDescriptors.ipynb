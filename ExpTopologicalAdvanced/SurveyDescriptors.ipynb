{
 "cells": [
  {
   "cell_type": "markdown",
   "id": "70d32706-d207-47a4-a568-8b517cf7d729",
   "metadata": {},
   "source": [
    "## Calcular parametros estadisticos del artículo de la survey de Edu sobre una nube de puntos de robots(cada puntos en un robot)\n",
    "\n",
    "1. Obtener nube de puntos"
   ]
  },
  {
   "cell_type": "code",
   "execution_count": 26,
   "id": "f9d1f9ad-766b-413c-98b0-03eabb60b9a9",
   "metadata": {},
   "outputs": [
    {
     "name": "stdout",
     "output_type": "stream",
     "text": [
      "{'steps': 2000, 'time_step': 0.1, 'record_collisions': True, 'record_pose': True, 'runs': 10000, 'run_index': 0, 'scenario': {'type': 'Cross', 'agent_margin': 0.1, 'side': 4, 'target_margin': 0.1, 'tolerance': 0.5, 'groups': [{'type': 'thymio', 'number': 20, 'radius': 0.08, 'control_period': 0.1, 'speed_tolerance': 0.02, 'kinematics': {'type': '2WDiff', 'wheel_axis': 0.094, 'max_speed': 0.166}, 'behavior': {'type': 'HL', 'optimal_speed': 0.12, 'horizon': 5.0, 'tau': {'sampler': 'uniform', 'from': 0.0, 'to': 1.0, 'once': True}, 'eta': {'sampler': 'uniform', 'from': 0.0, 'to': 1.0, 'once': True}, 'safety_margin': {'sampler': 'uniform', 'from': 0.0, 'to': 0.1, 'once': True}}, 'state_estimation': {'type': 'Bounded', 'range_of_view': 5.0}}]}}\n"
     ]
    },
    {
     "name": "stderr",
     "output_type": "stream",
     "text": [
      "Property name range_of_view is deprecated for Bounded, use range instead\n"
     ]
    },
    {
     "name": "stdout",
     "output_type": "stream",
     "text": [
      "Duration:  0:00:00.251810\n"
     ]
    },
    {
     "data": {
      "image/png": "[encoded data removed]",
      "text/plain": [
       "<Figure size 600x600 with 1 Axes>"
      ]
     },
     "metadata": {},
     "output_type": "display_data"
    }
   ],
   "source": [
    "import numpy as np\n",
    "import matplotlib.pyplot as plt\n",
    "\n",
    "from navground import sim\n",
    "import yaml\n",
    "import pandas as pd\n",
    "from scipy.spatial import distance_matrix\n",
    "from utilsTopological import *\n",
    "CONFIG_FILE = 'configTopological.yaml'\n",
    "\n",
    "def obj_to_yaml(obj): return yaml.dump(obj)\n",
    "\n",
    "def yaml_load(filename):\n",
    "\tr = ''\n",
    "\twith open(filename, 'r') as f:\n",
    "\t\tr = yaml.safe_load(f)\n",
    "\treturn r\n",
    "\n",
    "configYAML = yaml_load(CONFIG_FILE)\n",
    "print(configYAML)\n",
    "configYAML['runs'] = 1\n",
    "exp = sim.load_experiment(obj_to_yaml(configYAML))\n",
    "exp.run(number_of_threads=12)\n",
    "print(\"Duration: \", exp.duration)\n",
    "run = exp.runs[0]\n",
    "world = run.world # sim.load_world(g.attrs['world'])\n",
    "ps=run.poses\n",
    "maxd = [float(np.max(distance_matrix(X,X))) for X in ps[:,:,:2]]\n",
    "\n",
    "# Crear la nube de puntos\n",
    "plt.figure(figsize=(6, 6))\n",
    "plt.scatter(ps[0,:,0], ps[0,:, 1], color='blue', s=50)\n",
    "plt.title('Robots')\n",
    "plt.xlabel('X')\n",
    "plt.ylabel('Y')\n",
    "plt.grid(True)\n",
    "plt.show()\n",
    "\n"
   ]
  },
  {
   "cell_type": "markdown",
   "id": "121f44b3-93db-4dce-97ae-e9b44f570bf6",
   "metadata": {},
   "source": [
    "2. Obtener diagrama persistencia"
   ]
  },
  {
   "cell_type": "code",
   "execution_count": 23,
   "id": "e98c978d-ce8a-49f0-bd2d-6d9dc96e5b3f",
   "metadata": {},
   "outputs": [
    {
     "data": {
      "text/plain": [
       "array([[0.        , 0.33239875],\n",
       "       [0.        , 0.33334972],\n",
       "       [0.        , 0.34013091],\n",
       "       [0.        , 0.34103466],\n",
       "       [0.        , 0.34953846],\n",
       "       [0.        , 0.36687576],\n",
       "       [0.        , 0.41837252],\n",
       "       [0.        , 0.47334858],\n",
       "       [0.        , 0.47686814],\n",
       "       [0.        , 0.60261371],\n",
       "       [0.        , 0.61485112],\n",
       "       [0.        , 0.61861057],\n",
       "       [0.        , 0.63995789],\n",
       "       [0.        , 0.7406584 ],\n",
       "       [0.        , 0.74160123],\n",
       "       [0.        , 0.79950283],\n",
       "       [0.        , 0.83329568],\n",
       "       [0.        , 1.14913673],\n",
       "       [0.        , 1.20887424],\n",
       "       [0.        , 4.50114674]])"
      ]
     },
     "execution_count": 23,
     "metadata": {},
     "output_type": "execute_result"
    }
   ],
   "source": [
    "j=0\n",
    "persistence = ComputePersistenceDiagram(ps,j,0,maxd[j],\"rips\")\n",
    "persistenceL = limitingDiagram(persistence,maxd[j])\n",
    "persistenceL"
   ]
  },
  {
   "cell_type": "markdown",
   "id": "904b88cc-a4d3-4988-b17d-b3d32bf3fb86",
   "metadata": {},
   "source": [
    "3 Calculating statistics vectorizations"
   ]
  },
  {
   "cell_type": "code",
   "execution_count": 24,
   "id": "0ff10a03-944d-4b33-a004-d967aee85713",
   "metadata": {},
   "outputs": [
    {
     "name": "stdout",
     "output_type": "stream",
     "text": [
      "Statistics for Births (p):\n",
      "mean: 0.0\n",
      "std_dev: 0.0\n",
      "median: 0.0\n",
      "IQR: 0.0\n",
      "range: 0.0\n",
      "10th_percentile: 0.0\n",
      "25th_percentile: 0.0\n",
      "75th_percentile: 0.0\n",
      "90th_percentile: 0.0\n",
      "Statistics for Deaths (q):\n",
      "mean: 0.7941083318109989\n",
      "std_dev: 0.8869181066936838\n",
      "median: 0.6087324116943104\n",
      "IQR: 0.3935351959235161\n",
      "range: 4.168747990089658\n",
      "10th_percentile: 0.33945278995986333\n",
      "25th_percentile: 0.3625414318714763\n",
      "75th_percentile: 0.7560766277949924\n",
      "90th_percentile: 1.1551104777983818\n",
      "Statistics for Midpoints (p+q)/2:\n",
      "mean: 0.39705416590549947\n",
      "std_dev: 0.4434590533468419\n",
      "median: 0.3043662058471552\n",
      "IQR: 0.19676759796175805\n",
      "range: 2.084373995044829\n",
      "10th_percentile: 0.16972639497993167\n",
      "25th_percentile: 0.18127071593573815\n",
      "75th_percentile: 0.3780383138974962\n",
      "90th_percentile: 0.5775552388991909\n",
      "Statistics for Lifespans (q-p):\n",
      "mean: 0.7941083318109989\n",
      "std_dev: 0.8869181066936838\n",
      "median: 0.6087324116943104\n",
      "IQR: 0.3935351959235161\n",
      "range: 4.168747990089658\n",
      "10th_percentile: 0.33945278995986333\n",
      "25th_percentile: 0.3625414318714763\n",
      "75th_percentile: 0.7560766277949924\n",
      "90th_percentile: 1.1551104777983818\n",
      "Total number of bars (with multiplicity): 20\n"
     ]
    },
    {
     "data": {
      "text/plain": [
       "{'births': {'mean': 0.0,\n",
       "  'std_dev': 0.0,\n",
       "  'median': 0.0,\n",
       "  'IQR': 0.0,\n",
       "  'range': 0.0,\n",
       "  '10th_percentile': 0.0,\n",
       "  '25th_percentile': 0.0,\n",
       "  '75th_percentile': 0.0,\n",
       "  '90th_percentile': 0.0},\n",
       " 'deaths': {'mean': 0.7941083318109989,\n",
       "  'std_dev': 0.8869181066936838,\n",
       "  'median': 0.6087324116943104,\n",
       "  'IQR': 0.3935351959235161,\n",
       "  'range': 4.168747990089658,\n",
       "  '10th_percentile': 0.33945278995986333,\n",
       "  '25th_percentile': 0.3625414318714763,\n",
       "  '75th_percentile': 0.7560766277949924,\n",
       "  '90th_percentile': 1.1551104777983818},\n",
       " 'midpoints': {'mean': 0.39705416590549947,\n",
       "  'std_dev': 0.4434590533468419,\n",
       "  'median': 0.3043662058471552,\n",
       "  'IQR': 0.19676759796175805,\n",
       "  'range': 2.084373995044829,\n",
       "  '10th_percentile': 0.16972639497993167,\n",
       "  '25th_percentile': 0.18127071593573815,\n",
       "  '75th_percentile': 0.3780383138974962,\n",
       "  '90th_percentile': 0.5775552388991909},\n",
       " 'lifespans': {'mean': 0.7941083318109989,\n",
       "  'std_dev': 0.8869181066936838,\n",
       "  'median': 0.6087324116943104,\n",
       "  'IQR': 0.3935351959235161,\n",
       "  'range': 4.168747990089658,\n",
       "  '10th_percentile': 0.33945278995986333,\n",
       "  '25th_percentile': 0.3625414318714763,\n",
       "  '75th_percentile': 0.7560766277949924,\n",
       "  '90th_percentile': 1.1551104777983818},\n",
       " 'total_bars': 20}"
      ]
     },
     "execution_count": 24,
     "metadata": {},
     "output_type": "execute_result"
    }
   ],
   "source": [
    "# Function to calculate statistical metrics for a given data array\n",
    "def calculate_statistics(data, label):\n",
    "    statistics = {\n",
    "        \"mean\": np.mean(data),\n",
    "        \"std_dev\": np.std(data),\n",
    "        \"median\": np.median(data),\n",
    "        \"IQR\": np.percentile(data, 75) - np.percentile(data, 25),\n",
    "        \"range\": np.max(data) - np.min(data),\n",
    "        \"10th_percentile\": np.percentile(data, 10),\n",
    "        \"25th_percentile\": np.percentile(data, 25),\n",
    "        \"75th_percentile\": np.percentile(data, 75),\n",
    "        \"90th_percentile\": np.percentile(data, 90)\n",
    "    }\n",
    "    print(f\"Statistics for {label}:\")\n",
    "    for key, value in statistics.items():\n",
    "        print(f\"{key}: {value}\")\n",
    "    return statistics\n",
    "\n",
    "# Extract p (births) and q (deaths) from the persistence intervals\n",
    "def persistence_statistics(persistence_intervals):\n",
    "    p = persistence_intervals[:, 0]  # births\n",
    "    q = persistence_intervals[:, 1]  # deaths\n",
    "    \n",
    "    # Midpoints: (p + q) / 2\n",
    "    midpoints = (p + q) / 2\n",
    "    \n",
    "    # Lifespans: q - p\n",
    "    lifespans = q - p\n",
    "\n",
    "    # Calculate statistics for each category\n",
    "    p_stats = calculate_statistics(p, \"Births (p)\")\n",
    "    q_stats = calculate_statistics(q, \"Deaths (q)\")\n",
    "    midpoints_stats = calculate_statistics(midpoints, \"Midpoints (p+q)/2\")\n",
    "    lifespans_stats = calculate_statistics(lifespans, \"Lifespans (q-p)\")\n",
    "\n",
    "    # Count the total number of bars\n",
    "    total_bars = len(persistence_intervals)\n",
    "    print(f\"Total number of bars (with multiplicity): {total_bars}\")\n",
    "\n",
    "    return {\n",
    "        \"births\": p_stats,\n",
    "        \"deaths\": q_stats,\n",
    "        \"midpoints\": midpoints_stats,\n",
    "        \"lifespans\": lifespans_stats,\n",
    "        \"total_bars\": total_bars\n",
    "    }\n",
    "\n",
    "# Call the function to calculate statistics and count bars\n",
    "persistence_statistics(persistenceL)\n"
   ]
  }
 ],
 "metadata": {
  "kernelspec": {
   "display_name": "Python 3 (ipykernel)",
   "language": "python",
   "name": "python3"
  },
  "language_info": {
   "codemirror_mode": {
    "name": "ipython",
    "version": 3
   },
   "file_extension": ".py",
   "mimetype": "text/x-python",
   "name": "python",
   "nbconvert_exporter": "python",
   "pygments_lexer": "ipython3",
   "version": "3.10.12"
  }
 },
 "nbformat": 4,
 "nbformat_minor": 5
}
