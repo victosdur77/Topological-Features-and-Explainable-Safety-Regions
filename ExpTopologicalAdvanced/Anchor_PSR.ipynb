{
 "cells": [
  {
   "cell_type": "code",
   "execution_count": 2,
   "id": "1888565b",
   "metadata": {},
   "outputs": [],
   "source": [
    "import os\n",
    "from os.path import exists\n",
    "\n",
    "import anchor\n",
    "import anchor.anchor_tabular\n",
    "\n",
    "import pandas as pd\n",
    "import numpy as np\n",
    "import matplotlib.pyplot as plt\n",
    "from scipy.stats import uniform, randint\n",
    "from sklearn.model_selection import train_test_split\n",
    "from sklearn.preprocessing import StandardScaler\n",
    "from sklearn.metrics import auc, accuracy_score, confusion_matrix, mean_squared_error\n",
    "\n",
    "from sklearn.svm import SVC\n",
    "from sklearn.base import BaseEstimator, ClassifierMixin\n",
    "\n",
    "from sklearn.model_selection import RandomizedSearchCV, GridSearchCV\n",
    "import joblib\n",
    "from sklearn.metrics import confusion_matrix, ConfusionMatrixDisplay\n",
    "from sklearn.metrics import precision_score, f1_score, recall_score\n",
    "import time\n",
    "\n",
    "from AnchorGeneration import *\n",
    "from UtilsModel import *"
   ]
  },
  {
   "cell_type": "code",
   "execution_count": 8,
   "id": "e06776f0",
   "metadata": {},
   "outputs": [],
   "source": [
    "data_path = \"simulationVictorTopological/\"\n",
    "res_path = data_path+\"resultsPSR_Safe/\"\n",
    "if not exists(res_path):\n",
    "    os.mkdir(res_path)\n",
    "results_anchorfile = \"anchors-psr.csv\"\n",
    "feature_labels = ['meanEntropy', 'medianEntropy',\n",
    "       'stdsEntropy', 'iqrsEntropy',\"rangeEntropy\",\"percentile10Entropy\", \"percentile25Entropy\", \"percentile75Entropy\", \"percentile90Entropy\", \"kurtosisEntropy\", \"skewnessEntropy\", \"autoCorrEntropy\"]\n",
    "true_output = \"y_true\"\n",
    "#model_output = \"y_pred\"\n",
    "cp_output = \"y_conformal\"\n",
    "modelfilename = \"PS_SVM_safe.sav\" "
   ]
  },
  {
   "cell_type": "code",
   "execution_count": 4,
   "id": "75edeb7c-8d4e-4fa3-9082-4c92083b3fb5",
   "metadata": {},
   "outputs": [],
   "source": [
    "train = pd.read_csv(data_path+\"train_ps.csv\")\n",
    "y_train = np.array(train[true_output])\n",
    "#y_model_train = np.array(train[model_output])\n",
    "y_cp_train = np.array(train[cp_output])\n",
    "X_train = train.drop([true_output,cp_output],axis = 1)\n",
    "X_train = np.array(X_train)\n",
    "\n",
    "test = pd.read_csv(data_path+\"test_ps.csv\")\n",
    "y_test = np.array(test[true_output])\n",
    "#y_model_test = np.array(test[model_output])\n",
    "y_cp_test = np.array(test[cp_output])\n",
    "X_test = test.drop([true_output,cp_output],axis = 1)\n",
    "X_test = np.array(X_test)"
   ]
  },
  {
   "cell_type": "markdown",
   "id": "9f58aa5c",
   "metadata": {},
   "source": [
    "# Anchors from ScalableSVM"
   ]
  },
  {
   "cell_type": "code",
   "execution_count": 5,
   "id": "a995928c-578b-4e88-8ffb-bb70f1901638",
   "metadata": {},
   "outputs": [],
   "source": [
    "sc_svm = joblib.load(data_path+modelfilename)"
   ]
  },
  {
   "cell_type": "code",
   "execution_count": 6,
   "id": "f49c3436-8141-482e-9acb-0234b070fbf3",
   "metadata": {},
   "outputs": [
    {
     "data": {
      "text/plain": [
       "{'alpha': array([0.50000013, 0.5000364 , 0.50000945, ..., 0.49997145, 0.50001455,\n",
       "        0.50000924]),\n",
       " 'b': array([0.28015231]),\n",
       " 'b_eps': 0.5024472807492978,\n",
       " 'eta': 0.3,\n",
       " 'kernel': 'gaussian',\n",
       " 'param': 0.5,\n",
       " 'tau': array([[0.5]]),\n",
       " 'solver': 'osqp'}"
      ]
     },
     "execution_count": 6,
     "metadata": {},
     "output_type": "execute_result"
    }
   ],
   "source": [
    "sc_svm.get_params()"
   ]
  },
  {
   "cell_type": "code",
   "execution_count": 7,
   "id": "57af9fc1-17a0-467a-8549-32d837fdaf55",
   "metadata": {},
   "outputs": [
    {
     "data": {
      "image/png": "[encoded data removed]",
      "text/plain": [
       "<Figure size 640x480 with 2 Axes>"
      ]
     },
     "metadata": {},
     "output_type": "display_data"
    },
    {
     "name": "stdout",
     "output_type": "stream",
     "text": [
      "ACC = 0.767, F1 = 0.7713444553483808, PPV = 0.8675496688741722, NPV = 0.6837294332723949, TPR = 0.6943462897526502, TNR = 0.8617511520737328\n",
      "\n",
      "TP = 393, FP = 60, TN = 374, FN = 173\n"
     ]
    }
   ],
   "source": [
    "EvaluateModel(sc_svm, X_test, y_test, \"Scalable SVM - PSR\")"
   ]
  },
  {
   "cell_type": "markdown",
   "id": "6ecaddde-fb9e-4c41-baa9-7bb4aaf40aaa",
   "metadata": {},
   "source": [
    "Lo siguiente tarda unos 5500 segundos para las 7 variables, es decir unos 91 minutos. Si es solo para las 4 caracteristicas topologicas unos  60 minutos\n"
   ]
  },
  {
   "cell_type": "code",
   "execution_count": null,
   "id": "1674277b",
   "metadata": {},
   "outputs": [],
   "source": [
    "anchors_ssvm = GenerateAnchorRules(sc_svm, X_train, X_test, y_cp_test, y_test, [i[0] for i in list(enumerate(X_test))], feature_labels, list(sc_svm.classes_), precision_threshold = 0.5, filepath = res_path+results_anchorfile)"
   ]
  }
 ],
 "metadata": {
  "kernelspec": {
   "display_name": "Python 3 (ipykernel)",
   "language": "python",
   "name": "python3"
  },
  "language_info": {
   "codemirror_mode": {
    "name": "ipython",
    "version": 3
   },
   "file_extension": ".py",
   "mimetype": "text/x-python",
   "name": "python",
   "nbconvert_exporter": "python",
   "pygments_lexer": "ipython3",
   "version": "3.10.12"
  },
  "varInspector": {
   "cols": {
    "lenName": 16,
    "lenType": 16,
    "lenVar": 40
   },
   "kernels_config": {
    "python": {
     "delete_cmd_postfix": "",
     "delete_cmd_prefix": "del ",
     "library": "var_list.py",
     "varRefreshCmd": "print(var_dic_list())"
    },
    "r": {
     "delete_cmd_postfix": ") ",
     "delete_cmd_prefix": "rm(",
     "library": "var_list.r",
     "varRefreshCmd": "cat(var_dic_list()) "
    }
   },
   "types_to_exclude": [
    "module",
    "function",
    "builtin_function_or_method",
    "instance",
    "_Feature"
   ],
   "window_display": false
  }
 },
 "nbformat": 4,
 "nbformat_minor": 5
}
