{
 "cells": [
  {
   "cell_type": "code",
   "execution_count": 1,
   "id": "51a68309",
   "metadata": {},
   "outputs": [],
   "source": [
    "import pandas as pd\n",
    "import seaborn as sns\n",
    "import numpy as np\n",
    "import time\n",
    "\n",
    "import matplotlib.pyplot as plt\n",
    "\n",
    "import scipy\n",
    "from scipy import linalg\n",
    "\n",
    "from sklearn.metrics import confusion_matrix\n",
    "from sklearn.model_selection import train_test_split\n",
    "\n",
    "from WrapScalableSVM import *\n",
    "from Utils_SSVM import *\n",
    "from utilsData import *\n",
    "from modelEvaluation import *\n",
    "from utilsPlot import *\n",
    "\n",
    "import joblib"
   ]
  },
  {
   "cell_type": "markdown",
   "id": "c2305380-34f7-4673-9264-bd4a1eded487",
   "metadata": {},
   "source": [
    "# Tests for the xAI-2024 conference paper\n",
    "# Load datasets"
   ]
  },
  {
   "cell_type": "code",
   "execution_count": 2,
   "id": "38245c21",
   "metadata": {},
   "outputs": [],
   "source": [
    "datapath = \"simulationVictorTopological/\"\n",
    "train = \"train.csv\"\n",
    "test = \"test.csv\"\n",
    "cal = \"calib.csv\""
   ]
  },
  {
   "cell_type": "code",
   "execution_count": 3,
   "id": "2c91a943",
   "metadata": {},
   "outputs": [
    {
     "data": {
      "text/html": [
       "<div>\n",
       "<style scoped>\n",
       "    .dataframe tbody tr th:only-of-type {\n",
       "        vertical-align: middle;\n",
       "    }\n",
       "\n",
       "    .dataframe tbody tr th {\n",
       "        vertical-align: top;\n",
       "    }\n",
       "\n",
       "    .dataframe thead th {\n",
       "        text-align: right;\n",
       "    }\n",
       "</style>\n",
       "<table border=\"1\" class=\"dataframe\">\n",
       "  <thead>\n",
       "    <tr style=\"text-align: right;\">\n",
       "      <th></th>\n",
       "      <th>SafetyMargin</th>\n",
       "      <th>Eta</th>\n",
       "      <th>Tau</th>\n",
       "      <th>meanEntropy</th>\n",
       "      <th>medianEntropy</th>\n",
       "      <th>stdsEntropy</th>\n",
       "      <th>iqrsEntropy</th>\n",
       "      <th>rangeEntropy</th>\n",
       "      <th>percentile10Entropy</th>\n",
       "      <th>percentile25Entropy</th>\n",
       "      <th>percentile75Entropy</th>\n",
       "      <th>percentile90Entropy</th>\n",
       "      <th>kurtosisEntropy</th>\n",
       "      <th>skewnessEntropy</th>\n",
       "      <th>autoCorrEntropy</th>\n",
       "      <th>adfStatEntropy</th>\n",
       "      <th>output</th>\n",
       "    </tr>\n",
       "  </thead>\n",
       "  <tbody>\n",
       "    <tr>\n",
       "      <th>0</th>\n",
       "      <td>0.086168</td>\n",
       "      <td>0.396463</td>\n",
       "      <td>0.972466</td>\n",
       "      <td>2.685372</td>\n",
       "      <td>2.68725</td>\n",
       "      <td>0.026981</td>\n",
       "      <td>0.033900</td>\n",
       "      <td>0.1604</td>\n",
       "      <td>2.65039</td>\n",
       "      <td>2.668400</td>\n",
       "      <td>2.69890</td>\n",
       "      <td>2.71602</td>\n",
       "      <td>0.312842</td>\n",
       "      <td>-0.192205</td>\n",
       "      <td>0.996906</td>\n",
       "      <td>0.997405</td>\n",
       "      <td>0</td>\n",
       "    </tr>\n",
       "    <tr>\n",
       "      <th>1</th>\n",
       "      <td>0.002795</td>\n",
       "      <td>0.074331</td>\n",
       "      <td>0.197249</td>\n",
       "      <td>2.654051</td>\n",
       "      <td>2.65260</td>\n",
       "      <td>0.040120</td>\n",
       "      <td>0.054350</td>\n",
       "      <td>0.2196</td>\n",
       "      <td>2.60000</td>\n",
       "      <td>2.625875</td>\n",
       "      <td>2.67423</td>\n",
       "      <td>2.70831</td>\n",
       "      <td>-0.174614</td>\n",
       "      <td>0.295098</td>\n",
       "      <td>0.997145</td>\n",
       "      <td>0.997644</td>\n",
       "      <td>85</td>\n",
       "    </tr>\n",
       "    <tr>\n",
       "      <th>2</th>\n",
       "      <td>0.019291</td>\n",
       "      <td>0.140945</td>\n",
       "      <td>0.483913</td>\n",
       "      <td>2.650279</td>\n",
       "      <td>2.64135</td>\n",
       "      <td>0.033946</td>\n",
       "      <td>0.033700</td>\n",
       "      <td>0.1892</td>\n",
       "      <td>2.61730</td>\n",
       "      <td>2.627100</td>\n",
       "      <td>2.65690</td>\n",
       "      <td>2.70230</td>\n",
       "      <td>1.465048</td>\n",
       "      <td>1.278774</td>\n",
       "      <td>0.996411</td>\n",
       "      <td>0.996909</td>\n",
       "      <td>70</td>\n",
       "    </tr>\n",
       "    <tr>\n",
       "      <th>3</th>\n",
       "      <td>0.005841</td>\n",
       "      <td>0.411249</td>\n",
       "      <td>0.729550</td>\n",
       "      <td>2.636983</td>\n",
       "      <td>2.63480</td>\n",
       "      <td>0.033514</td>\n",
       "      <td>0.035900</td>\n",
       "      <td>0.2050</td>\n",
       "      <td>2.59770</td>\n",
       "      <td>2.617800</td>\n",
       "      <td>2.64910</td>\n",
       "      <td>2.67620</td>\n",
       "      <td>1.115664</td>\n",
       "      <td>0.486850</td>\n",
       "      <td>0.997983</td>\n",
       "      <td>0.998483</td>\n",
       "      <td>121</td>\n",
       "    </tr>\n",
       "    <tr>\n",
       "      <th>4</th>\n",
       "      <td>0.047943</td>\n",
       "      <td>0.412385</td>\n",
       "      <td>0.731346</td>\n",
       "      <td>2.667609</td>\n",
       "      <td>2.66420</td>\n",
       "      <td>0.027583</td>\n",
       "      <td>0.036550</td>\n",
       "      <td>0.1436</td>\n",
       "      <td>2.63628</td>\n",
       "      <td>2.647875</td>\n",
       "      <td>2.68000</td>\n",
       "      <td>2.70551</td>\n",
       "      <td>0.037950</td>\n",
       "      <td>0.477458</td>\n",
       "      <td>0.995946</td>\n",
       "      <td>0.996444</td>\n",
       "      <td>1</td>\n",
       "    </tr>\n",
       "    <tr>\n",
       "      <th>...</th>\n",
       "      <td>...</td>\n",
       "      <td>...</td>\n",
       "      <td>...</td>\n",
       "      <td>...</td>\n",
       "      <td>...</td>\n",
       "      <td>...</td>\n",
       "      <td>...</td>\n",
       "      <td>...</td>\n",
       "      <td>...</td>\n",
       "      <td>...</td>\n",
       "      <td>...</td>\n",
       "      <td>...</td>\n",
       "      <td>...</td>\n",
       "      <td>...</td>\n",
       "      <td>...</td>\n",
       "      <td>...</td>\n",
       "      <td>...</td>\n",
       "    </tr>\n",
       "    <tr>\n",
       "      <th>3995</th>\n",
       "      <td>0.070947</td>\n",
       "      <td>0.863557</td>\n",
       "      <td>0.109205</td>\n",
       "      <td>2.702575</td>\n",
       "      <td>2.70125</td>\n",
       "      <td>0.037087</td>\n",
       "      <td>0.046000</td>\n",
       "      <td>0.1852</td>\n",
       "      <td>2.65489</td>\n",
       "      <td>2.680700</td>\n",
       "      <td>2.72080</td>\n",
       "      <td>2.75220</td>\n",
       "      <td>-0.127846</td>\n",
       "      <td>-0.168285</td>\n",
       "      <td>0.997512</td>\n",
       "      <td>0.998011</td>\n",
       "      <td>0</td>\n",
       "    </tr>\n",
       "    <tr>\n",
       "      <th>3996</th>\n",
       "      <td>0.069707</td>\n",
       "      <td>0.218829</td>\n",
       "      <td>0.618554</td>\n",
       "      <td>2.691524</td>\n",
       "      <td>2.69305</td>\n",
       "      <td>0.023830</td>\n",
       "      <td>0.036200</td>\n",
       "      <td>0.1118</td>\n",
       "      <td>2.65940</td>\n",
       "      <td>2.674500</td>\n",
       "      <td>2.70680</td>\n",
       "      <td>2.72261</td>\n",
       "      <td>-0.727451</td>\n",
       "      <td>-0.176144</td>\n",
       "      <td>0.997285</td>\n",
       "      <td>0.997784</td>\n",
       "      <td>0</td>\n",
       "    </tr>\n",
       "    <tr>\n",
       "      <th>3997</th>\n",
       "      <td>0.063535</td>\n",
       "      <td>0.776138</td>\n",
       "      <td>0.835925</td>\n",
       "      <td>2.681681</td>\n",
       "      <td>2.68395</td>\n",
       "      <td>0.022963</td>\n",
       "      <td>0.027000</td>\n",
       "      <td>0.1221</td>\n",
       "      <td>2.64978</td>\n",
       "      <td>2.669100</td>\n",
       "      <td>2.69343</td>\n",
       "      <td>2.71090</td>\n",
       "      <td>0.041711</td>\n",
       "      <td>-0.304703</td>\n",
       "      <td>0.996947</td>\n",
       "      <td>0.997445</td>\n",
       "      <td>5</td>\n",
       "    </tr>\n",
       "    <tr>\n",
       "      <th>3998</th>\n",
       "      <td>0.044450</td>\n",
       "      <td>0.263524</td>\n",
       "      <td>0.949564</td>\n",
       "      <td>2.661981</td>\n",
       "      <td>2.66050</td>\n",
       "      <td>0.028489</td>\n",
       "      <td>0.035200</td>\n",
       "      <td>0.1721</td>\n",
       "      <td>2.62790</td>\n",
       "      <td>2.643400</td>\n",
       "      <td>2.67373</td>\n",
       "      <td>2.69910</td>\n",
       "      <td>0.407047</td>\n",
       "      <td>0.218500</td>\n",
       "      <td>0.997997</td>\n",
       "      <td>0.998496</td>\n",
       "      <td>38</td>\n",
       "    </tr>\n",
       "    <tr>\n",
       "      <th>3999</th>\n",
       "      <td>0.051103</td>\n",
       "      <td>0.849309</td>\n",
       "      <td>0.388795</td>\n",
       "      <td>2.678070</td>\n",
       "      <td>2.67820</td>\n",
       "      <td>0.026922</td>\n",
       "      <td>0.037125</td>\n",
       "      <td>0.1339</td>\n",
       "      <td>2.64029</td>\n",
       "      <td>2.659200</td>\n",
       "      <td>2.69263</td>\n",
       "      <td>2.71310</td>\n",
       "      <td>-0.399856</td>\n",
       "      <td>0.160664</td>\n",
       "      <td>0.997294</td>\n",
       "      <td>0.997793</td>\n",
       "      <td>0</td>\n",
       "    </tr>\n",
       "  </tbody>\n",
       "</table>\n",
       "<p>4000 rows × 17 columns</p>\n",
       "</div>"
      ],
      "text/plain": [
       "      SafetyMargin       Eta       Tau  meanEntropy  medianEntropy  \\\n",
       "0         0.086168  0.396463  0.972466     2.685372        2.68725   \n",
       "1         0.002795  0.074331  0.197249     2.654051        2.65260   \n",
       "2         0.019291  0.140945  0.483913     2.650279        2.64135   \n",
       "3         0.005841  0.411249  0.729550     2.636983        2.63480   \n",
       "4         0.047943  0.412385  0.731346     2.667609        2.66420   \n",
       "...            ...       ...       ...          ...            ...   \n",
       "3995      0.070947  0.863557  0.109205     2.702575        2.70125   \n",
       "3996      0.069707  0.218829  0.618554     2.691524        2.69305   \n",
       "3997      0.063535  0.776138  0.835925     2.681681        2.68395   \n",
       "3998      0.044450  0.263524  0.949564     2.661981        2.66050   \n",
       "3999      0.051103  0.849309  0.388795     2.678070        2.67820   \n",
       "\n",
       "      stdsEntropy  iqrsEntropy  rangeEntropy  percentile10Entropy  \\\n",
       "0        0.026981     0.033900        0.1604              2.65039   \n",
       "1        0.040120     0.054350        0.2196              2.60000   \n",
       "2        0.033946     0.033700        0.1892              2.61730   \n",
       "3        0.033514     0.035900        0.2050              2.59770   \n",
       "4        0.027583     0.036550        0.1436              2.63628   \n",
       "...           ...          ...           ...                  ...   \n",
       "3995     0.037087     0.046000        0.1852              2.65489   \n",
       "3996     0.023830     0.036200        0.1118              2.65940   \n",
       "3997     0.022963     0.027000        0.1221              2.64978   \n",
       "3998     0.028489     0.035200        0.1721              2.62790   \n",
       "3999     0.026922     0.037125        0.1339              2.64029   \n",
       "\n",
       "      percentile25Entropy  percentile75Entropy  percentile90Entropy  \\\n",
       "0                2.668400              2.69890              2.71602   \n",
       "1                2.625875              2.67423              2.70831   \n",
       "2                2.627100              2.65690              2.70230   \n",
       "3                2.617800              2.64910              2.67620   \n",
       "4                2.647875              2.68000              2.70551   \n",
       "...                   ...                  ...                  ...   \n",
       "3995             2.680700              2.72080              2.75220   \n",
       "3996             2.674500              2.70680              2.72261   \n",
       "3997             2.669100              2.69343              2.71090   \n",
       "3998             2.643400              2.67373              2.69910   \n",
       "3999             2.659200              2.69263              2.71310   \n",
       "\n",
       "      kurtosisEntropy  skewnessEntropy  autoCorrEntropy  adfStatEntropy  \\\n",
       "0            0.312842        -0.192205         0.996906        0.997405   \n",
       "1           -0.174614         0.295098         0.997145        0.997644   \n",
       "2            1.465048         1.278774         0.996411        0.996909   \n",
       "3            1.115664         0.486850         0.997983        0.998483   \n",
       "4            0.037950         0.477458         0.995946        0.996444   \n",
       "...               ...              ...              ...             ...   \n",
       "3995        -0.127846        -0.168285         0.997512        0.998011   \n",
       "3996        -0.727451        -0.176144         0.997285        0.997784   \n",
       "3997         0.041711        -0.304703         0.996947        0.997445   \n",
       "3998         0.407047         0.218500         0.997997        0.998496   \n",
       "3999        -0.399856         0.160664         0.997294        0.997793   \n",
       "\n",
       "      output  \n",
       "0          0  \n",
       "1         85  \n",
       "2         70  \n",
       "3        121  \n",
       "4          1  \n",
       "...      ...  \n",
       "3995       0  \n",
       "3996       0  \n",
       "3997       5  \n",
       "3998      38  \n",
       "3999       0  \n",
       "\n",
       "[4000 rows x 17 columns]"
      ]
     },
     "execution_count": 3,
     "metadata": {},
     "output_type": "execute_result"
    }
   ],
   "source": [
    "dbtrain = pd.read_csv(datapath+train)\n",
    "dbtest = pd.read_csv(datapath+test)\n",
    "dbcal = pd.read_csv(datapath+cal)\n",
    "dbtrain"
   ]
  },
  {
   "cell_type": "markdown",
   "id": "69c6a310-acaa-443f-bb3a-172bf744c3df",
   "metadata": {},
   "source": [
    "Separate features and labels, and convert label 0 with 1 and 1 with -1"
   ]
  },
  {
   "cell_type": "code",
   "execution_count": 4,
   "id": "fbff073b",
   "metadata": {},
   "outputs": [],
   "source": [
    "Xtr = dbtrain[['SafetyMargin', 'Eta', 'Tau','meanEntropy', 'medianEntropy', 'stdsEntropy', 'iqrsEntropy',\"rangeEntropy\",\"percentile10Entropy\", \"percentile25Entropy\", \"percentile75Entropy\", \"percentile90Entropy\", \"kurtosisEntropy\", \"skewnessEntropy\", \"autoCorrEntropy\"]].values\n",
    "Ytr = dbtrain[['output']].values\n",
    "Ytr[Ytr>1] = -1\n",
    "Ytr[Ytr==0] = 1\n",
    "\n",
    "Xts = dbtest[['SafetyMargin', 'Eta', 'Tau','meanEntropy', 'medianEntropy', 'stdsEntropy', 'iqrsEntropy',\"rangeEntropy\",\"percentile10Entropy\", \"percentile25Entropy\", \"percentile75Entropy\", \"percentile90Entropy\", \"kurtosisEntropy\", \"skewnessEntropy\", \"autoCorrEntropy\"]].values\n",
    "Yts = dbtest[['output']].values\n",
    "Yts[Yts>1] = -1\n",
    "Yts[Yts==0] = 1\n",
    "\n",
    "Xcal = dbcal[['SafetyMargin', 'Eta', 'Tau','meanEntropy', 'medianEntropy', 'stdsEntropy', 'iqrsEntropy',\"rangeEntropy\",\"percentile10Entropy\", \"percentile25Entropy\", \"percentile75Entropy\", \"percentile90Entropy\", \"kurtosisEntropy\", \"skewnessEntropy\", \"autoCorrEntropy\"]].values\n",
    "Ycal = dbcal[['output']].values\n",
    "Ycal[Ycal>1] = -1\n",
    "Ycal[Ycal==0] = 1"
   ]
  },
  {
   "cell_type": "markdown",
   "id": "0fc1f946-cccd-48b7-9c7c-8e14c369796b",
   "metadata": {},
   "source": [
    "# SVM parameters setting"
   ]
  },
  {
   "cell_type": "code",
   "execution_count": 5,
   "id": "72958a2c",
   "metadata": {},
   "outputs": [],
   "source": [
    "# Parameters settings\n",
    "kernel = \"gaussian\" #with gaussian work, with polynomial no.\n",
    "param = 0.5 # play with this to improve model evaluation, explaination on chatgpt\n",
    "tau = np.array([[0.5]])\n",
    "eta = 0.3"
   ]
  },
  {
   "cell_type": "markdown",
   "id": "04a74aac-8451-4a11-a449-b4ca9d1614f2",
   "metadata": {},
   "source": [
    "# Scaling setting"
   ]
  },
  {
   "cell_type": "code",
   "execution_count": 6,
   "id": "d28da3cc-0a13-4b92-b1ef-551cf0788545",
   "metadata": {},
   "outputs": [],
   "source": [
    "epsilon = 0.1"
   ]
  },
  {
   "cell_type": "code",
   "execution_count": 19,
   "id": "e630d6dc-1f2b-4d13-8730-8b4e25f70b44",
   "metadata": {},
   "outputs": [],
   "source": [
    "# si quieres normalizar\n",
    "# XtrScaled = scaler.fit_transform(Xtr)\n",
    "# XcalScaled = scaler.fit_transform(Xcal)\n",
    "# XtsScaled = scaler.fit_transform(Xts)"
   ]
  },
  {
   "cell_type": "code",
   "execution_count": 7,
   "id": "3c2f0736-85bb-47bf-887f-7c74cc0f7878",
   "metadata": {},
   "outputs": [
    {
     "data": {
      "text/plain": [
       "(4000, 12)"
      ]
     },
     "execution_count": 7,
     "metadata": {},
     "output_type": "execute_result"
    }
   ],
   "source": [
    "Xtr[:,3:].shape"
   ]
  },
  {
   "cell_type": "markdown",
   "id": "da3ee4d4",
   "metadata": {},
   "source": [
    "## 1) Classic SVM"
   ]
  },
  {
   "cell_type": "code",
   "execution_count": 8,
   "id": "c0098a9c",
   "metadata": {},
   "outputs": [
    {
     "name": "stdout",
     "output_type": "stream",
     "text": [
      "Elapsed time: 59.90587067604065 seconds\n"
     ]
    }
   ],
   "source": [
    "start_time = time.time()\n",
    "\n",
    "model = ScalableSVMClassifier(eta, kernel, param, tau)\n",
    "\n",
    "model = model.fit(Xtr[:,3:],Ytr) #[:,-4:] solo caract topol\n",
    "joblib.dump(model, datapath+\"classicSVM_safeEff.sav\")\n",
    "end_time = time.time()\n",
    "\n",
    "elapsed_time = end_time - start_time\n",
    "\n",
    "print(f\"Elapsed time: {elapsed_time} seconds\")"
   ]
  },
  {
   "cell_type": "code",
   "execution_count": 9,
   "id": "21d2b59f",
   "metadata": {},
   "outputs": [
    {
     "data": {
      "text/plain": [
       "{'alpha': array([0.50000013, 0.5000364 , 0.50000945, ..., 0.49997145, 0.50001455,\n",
       "        0.50000924]),\n",
       " 'b': array([0.28015231]),\n",
       " 'b_eps': 0,\n",
       " 'eta': 0.3,\n",
       " 'kernel': 'gaussian',\n",
       " 'param': 0.5,\n",
       " 'tau': array([[0.5]]),\n",
       " 'solver': 'osqp'}"
      ]
     },
     "execution_count": 9,
     "metadata": {},
     "output_type": "execute_result"
    }
   ],
   "source": [
    "model = model.FPcontrol(Xcal[:,3:], Ycal, epsilon,'classic')\n",
    "model.get_params()"
   ]
  },
  {
   "cell_type": "code",
   "execution_count": 10,
   "id": "76553068",
   "metadata": {},
   "outputs": [
    {
     "data": {
      "image/png": "[encoded data removed]",
      "text/plain": [
       "<Figure size 640x480 with 2 Axes>"
      ]
     },
     "metadata": {},
     "output_type": "display_data"
    },
    {
     "name": "stdout",
     "output_type": "stream",
     "text": [
      "ACC = 0.816, F1 = 0.8456375838926175, PPV = 0.805111821086262, NPV = 0.8342245989304813, TPR = 0.8904593639575972, TNR = 0.7188940092165899, FPR = 0.28110599078341014, FNR = 0.10954063604240283\n",
      "\n",
      "TP = 504, FP = 122, TN = 312, FN = 62\n"
     ]
    }
   ],
   "source": [
    "metricsClassic = EvaluateModel(model, Xts[:,3:], Yts, f\"SVM with {model.method} method\")\n"
   ]
  },
  {
   "cell_type": "code",
   "execution_count": 11,
   "id": "4c8afd10-5d9b-409e-87ff-77c32efa91b6",
   "metadata": {},
   "outputs": [
    {
     "data": {
      "text/plain": [
       "['simulationVictorTopological/Classic_SVM_safe.sav']"
      ]
     },
     "execution_count": 11,
     "metadata": {},
     "output_type": "execute_result"
    }
   ],
   "source": [
    "joblib.dump(model,datapath+\"Classic_SVM_safe.sav\")"
   ]
  },
  {
   "cell_type": "markdown",
   "id": "41ba7464",
   "metadata": {},
   "source": [
    "## 2) Probabilistic Safety Region"
   ]
  },
  {
   "cell_type": "code",
   "execution_count": 12,
   "id": "f97d66cf",
   "metadata": {},
   "outputs": [
    {
     "data": {
      "text/plain": [
       "{'alpha': array([0.50000013, 0.5000364 , 0.50000945, ..., 0.49997145, 0.50001455,\n",
       "        0.50000924]),\n",
       " 'b': array([0.28015231]),\n",
       " 'b_eps': 0.5024472807492978,\n",
       " 'eta': 0.3,\n",
       " 'kernel': 'gaussian',\n",
       " 'param': 0.5,\n",
       " 'tau': array([[0.5]]),\n",
       " 'solver': 'osqp'}"
      ]
     },
     "execution_count": 12,
     "metadata": {},
     "output_type": "execute_result"
    }
   ],
   "source": [
    "model = model.FPcontrol(Xcal[:,3:], Ycal, epsilon,'ps')\n",
    "model.get_params()"
   ]
  },
  {
   "cell_type": "code",
   "execution_count": 13,
   "id": "42adb709",
   "metadata": {},
   "outputs": [
    {
     "data": {
      "image/png": "[encoded data removed]",
      "text/plain": [
       "<Figure size 640x480 with 2 Axes>"
      ]
     },
     "metadata": {},
     "output_type": "display_data"
    },
    {
     "name": "stdout",
     "output_type": "stream",
     "text": [
      "ACC = 0.767, F1 = 0.7713444553483808, PPV = 0.8675496688741722, NPV = 0.6837294332723949, TPR = 0.6943462897526502, TNR = 0.8617511520737328, FPR = 0.1382488479262673, FNR = 0.30565371024734983\n",
      "\n",
      "TP = 393, FP = 60, TN = 374, FN = 173\n"
     ]
    }
   ],
   "source": [
    "metricsPSR = EvaluateModel(model, Xts[:,3:], Yts, f\"SVM with {model.method} method\")"
   ]
  },
  {
   "cell_type": "code",
   "execution_count": 36,
   "id": "c7074299-60e4-4aa1-9107-6dd84bfb341f",
   "metadata": {},
   "outputs": [
    {
     "data": {
      "text/plain": [
       "['simulationVictorTopological/PS_SVM_safe.sav']"
      ]
     },
     "execution_count": 36,
     "metadata": {},
     "output_type": "execute_result"
    }
   ],
   "source": [
    "joblib.dump(model,datapath+\"PS_SVM_safe.sav\")"
   ]
  },
  {
   "cell_type": "code",
   "execution_count": 41,
   "id": "879ad375-3a43-43b0-8c27-c39285782dc6",
   "metadata": {},
   "outputs": [],
   "source": [
    "# save to file\n",
    "y_ps_tr = model.predict(Xtr[:,3:]).reshape((len(Xtr),1))\n",
    "y_ps_cal = model.predict(Xcal[:,3:]).reshape((len(Xcal),1))\n",
    "y_ps_ts = model.predict(Xts[:,3:]).reshape((len(Xts),1))\n",
    "\n",
    "train = pd.DataFrame(np.hstack((Xtr[:,3:],Ytr,y_ps_tr)), columns = ['meanEntropy', 'medianEntropy', 'stdsEntropy', 'iqrsEntropy',\"y_true\",\"y_conformal\"])\n",
    "calib = pd.DataFrame(np.hstack((Xcal[:,3:],Ycal,y_ps_cal)), columns = ['meanEntropy', 'medianEntropy', 'stdsEntropy', 'iqrsEntropy',\"y_true\",\"y_conformal\"])\n",
    "test = pd.DataFrame(np.hstack((Xts[:,3:],Yts,y_ps_ts)), columns = ['meanEntropy', 'medianEntropy', 'stdsEntropy', 'iqrsEntropy',\"y_true\",\"y_conformal\"])\n",
    "train.to_csv(datapath+\"train_ps.csv\", index = False)\n",
    "calib.to_csv(datapath+\"calib_ps.csv\", index = False)\n",
    "test.to_csv(datapath+\"test_ps.csv\", index = False)"
   ]
  },
  {
   "cell_type": "markdown",
   "id": "afaee004-d533-4fcd-bfaf-c4793abd8963",
   "metadata": {},
   "source": [
    "# 3) Conformal Safety Regions\n"
   ]
  },
  {
   "cell_type": "code",
   "execution_count": 37,
   "id": "90c98e62-12bf-4cc6-a06f-043a4d08d67d",
   "metadata": {},
   "outputs": [
    {
     "data": {
      "text/plain": [
       "{'alpha': array([ 4.99872383e-01, -2.30312013e-05, -7.37558808e-06, ...,\n",
       "         5.00093371e-01,  5.00015073e-01, -1.54270367e-05]),\n",
       " 'b': array([0.01518191]),\n",
       " 'b_eps': 0.21313178659477316,\n",
       " 'eta': 0.3,\n",
       " 'kernel': 'gaussian',\n",
       " 'param': 0.5,\n",
       " 'tau': array([[0.5]]),\n",
       " 'solver': 'osqp'}"
      ]
     },
     "execution_count": 37,
     "metadata": {},
     "output_type": "execute_result"
    }
   ],
   "source": [
    "model = model.FPcontrol(Xcal[:,3:], Ycal, 0.1,'cp')\n",
    "model.get_params()"
   ]
  },
  {
   "cell_type": "code",
   "execution_count": 38,
   "id": "81b80e26-65ce-4669-b560-b0a597f97d50",
   "metadata": {},
   "outputs": [
    {
     "data": {
      "image/png": "[encoded data removed]",
      "text/plain": [
       "<Figure size 640x480 with 2 Axes>"
      ]
     },
     "metadata": {},
     "output_type": "display_data"
    },
    {
     "name": "stdout",
     "output_type": "stream",
     "text": [
      "ACC = 0.837, F1 = 0.8617472434266328, PPV = 0.8834782608695653, NPV = 0.7741176470588236, TPR = 0.8410596026490066, TNR = 0.8308080808080808, FPR = 0.1691919191919192, FNR = 0.15894039735099338\n",
      "\n",
      "TP = 508, FP = 67, TN = 329, FN = 96\n"
     ]
    }
   ],
   "source": [
    "metricsCSR = EvaluateModel(model, Xts[:,3:], Yts, f\"SVM with {model.method} method\")"
   ]
  },
  {
   "cell_type": "code",
   "execution_count": 39,
   "id": "0ca2a3ba-3918-4de0-bd70-ce46b4c59a77",
   "metadata": {},
   "outputs": [
    {
     "data": {
      "text/plain": [
       "['simulationVictorTopological/CP_SVM_safe.sav']"
      ]
     },
     "execution_count": 39,
     "metadata": {},
     "output_type": "execute_result"
    }
   ],
   "source": [
    "joblib.dump(model,datapath+\"CP_SVM_safe.sav\")"
   ]
  },
  {
   "cell_type": "code",
   "execution_count": 43,
   "id": "57d805ea-257a-45b0-b925-bd60ec645907",
   "metadata": {},
   "outputs": [],
   "source": [
    "# save to file\n",
    "y_ps_tr = model.predict(Xtr[:,3:]).reshape((len(Xtr),1))\n",
    "y_ps_cal = model.predict(Xcal[:,3:]).reshape((len(Xcal),1))\n",
    "y_ps_ts = model.predict(Xts[:,3:]).reshape((len(Xts),1))\n",
    "\n",
    "train = pd.DataFrame(np.hstack((Xtr[:,3:],Ytr,y_ps_tr)), columns = ['meanEntropy', 'medianEntropy', 'stdsEntropy', 'iqrsEntropy',\"y_true\",\"y_conformal\"])\n",
    "calib = pd.DataFrame(np.hstack((Xcal[:,3:],Ycal,y_ps_cal)), columns = ['meanEntropy', 'medianEntropy', 'stdsEntropy', 'iqrsEntropy',\"y_true\",\"y_conformal\"])\n",
    "test = pd.DataFrame(np.hstack((Xts[:,3:],Yts,y_ps_ts)), columns = ['meanEntropy', 'medianEntropy', 'stdsEntropy', 'iqrsEntropy',\"y_true\",\"y_conformal\"])\n",
    "train.to_csv(datapath+\"train_cp.csv\", index = False)\n",
    "calib.to_csv(datapath+\"calib_cp.csv\", index = False)\n",
    "test.to_csv(datapath+\"test_cp.csv\", index = False)"
   ]
  }
 ],
 "metadata": {
  "kernelspec": {
   "display_name": "Python 3 (ipykernel)",
   "language": "python",
   "name": "python3"
  },
  "language_info": {
   "codemirror_mode": {
    "name": "ipython",
    "version": 3
   },
   "file_extension": ".py",
   "mimetype": "text/x-python",
   "name": "python",
   "nbconvert_exporter": "python",
   "pygments_lexer": "ipython3",
   "version": "3.10.12"
  },
  "varInspector": {
   "cols": {
    "lenName": 16,
    "lenType": 16,
    "lenVar": 40
   },
   "kernels_config": {
    "python": {
     "delete_cmd_postfix": "",
     "delete_cmd_prefix": "del ",
     "library": "var_list.py",
     "varRefreshCmd": "print(var_dic_list())"
    },
    "r": {
     "delete_cmd_postfix": ") ",
     "delete_cmd_prefix": "rm(",
     "library": "var_list.r",
     "varRefreshCmd": "cat(var_dic_list()) "
    }
   },
   "types_to_exclude": [
    "module",
    "function",
    "builtin_function_or_method",
    "instance",
    "_Feature"
   ],
   "window_display": false
  }
 },
 "nbformat": 4,
 "nbformat_minor": 5
}
