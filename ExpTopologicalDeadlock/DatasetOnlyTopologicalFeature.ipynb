{
 "cells": [
  {
   "cell_type": "code",
   "execution_count": 1,
   "id": "43e250a0-7cd5-489d-8336-2ebfab1ca550",
   "metadata": {},
   "outputs": [
    {
     "name": "stdout",
     "output_type": "stream",
     "text": [
      "Archivo guardado sin las tres primeras columnas.\n"
     ]
    }
   ],
   "source": [
    "# obtener dataset solo con variables topologicas: \n",
    "import pandas as pd\n",
    "\n",
    "# Cargar el dataset\n",
    "data_path = \"simulationVictorTopological/\"\n",
    "datafilename = \"dataset.csv\"\n",
    "df = pd.read_csv(data_path+datafilename)\n",
    "\n",
    "# Eliminar las tres primeras columnas\n",
    "df = df.iloc[:, 3:]\n",
    "\n",
    "# Guardar el nuevo dataset\n",
    "new_file_path = 'datasetTopologicalFeaturesOnly.csv'  # Cambia esto por la ruta donde quieras guardar el archivo\n",
    "df.to_csv(data_path+new_file_path, index=False)\n",
    "\n",
    "print(\"Archivo guardado sin las tres primeras columnas.\")\n"
   ]
  }
 ],
 "metadata": {
  "kernelspec": {
   "display_name": "Python 3 (ipykernel)",
   "language": "python",
   "name": "python3"
  },
  "language_info": {
   "codemirror_mode": {
    "name": "ipython",
    "version": 3
   },
   "file_extension": ".py",
   "mimetype": "text/x-python",
   "name": "python",
   "nbconvert_exporter": "python",
   "pygments_lexer": "ipython3",
   "version": "3.10.12"
  }
 },
 "nbformat": 4,
 "nbformat_minor": 5
}
