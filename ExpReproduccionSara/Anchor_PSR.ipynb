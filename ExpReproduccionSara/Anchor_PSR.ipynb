{
 "cells": [
  {
   "cell_type": "code",
   "execution_count": 1,
   "id": "1888565b",
   "metadata": {},
   "outputs": [],
   "source": [
    "import os\n",
    "from os.path import exists\n",
    "\n",
    "import anchor\n",
    "import anchor.anchor_tabular\n",
    "\n",
    "import pandas as pd\n",
    "import numpy as np\n",
    "import matplotlib.pyplot as plt\n",
    "from scipy.stats import uniform, randint\n",
    "from sklearn.model_selection import train_test_split\n",
    "from sklearn.preprocessing import StandardScaler\n",
    "from sklearn.metrics import auc, accuracy_score, confusion_matrix, mean_squared_error\n",
    "\n",
    "from sklearn.svm import SVC\n",
    "from sklearn.base import BaseEstimator, ClassifierMixin\n",
    "\n",
    "from sklearn.model_selection import RandomizedSearchCV, GridSearchCV\n",
    "import joblib\n",
    "from sklearn.metrics import confusion_matrix, ConfusionMatrixDisplay\n",
    "from sklearn.metrics import precision_score, f1_score, recall_score\n",
    "import time\n",
    "\n",
    "from AnchorGeneration import *\n",
    "from UtilsModel import *"
   ]
  },
  {
   "cell_type": "code",
   "execution_count": 2,
   "id": "e06776f0",
   "metadata": {},
   "outputs": [],
   "source": [
    "data_path = \"simulationVictor/\"\n",
    "res_path = data_path+\"resultsPSR_Safe/\"\n",
    "if not exists(res_path):\n",
    "    os.mkdir(res_path)\n",
    "results_anchorfile = \"anchors-psr.csv\"\n",
    "feature_labels = [\"SafetyMargin\",\"Eta\",\"Tau\"]\n",
    "true_output = \"y_true\"\n",
    "#model_output = \"y_pred\"\n",
    "cp_output = \"y_conformal\"\n",
    "modelfilename = \"PS_SVM_safe.sav\" "
   ]
  },
  {
   "cell_type": "code",
   "execution_count": 3,
   "id": "75edeb7c-8d4e-4fa3-9082-4c92083b3fb5",
   "metadata": {},
   "outputs": [],
   "source": [
    "train = pd.read_csv(data_path+\"train_ps.csv\")\n",
    "y_train = np.array(train[true_output])\n",
    "#y_model_train = np.array(train[model_output])\n",
    "y_cp_train = np.array(train[cp_output])\n",
    "X_train = train.drop([true_output,cp_output],axis = 1)\n",
    "X_train = np.array(X_train)\n",
    "\n",
    "test = pd.read_csv(data_path+\"test_ps.csv\")\n",
    "y_test = np.array(test[true_output])\n",
    "#y_model_test = np.array(test[model_output])\n",
    "y_cp_test = np.array(test[cp_output])\n",
    "X_test = test.drop([true_output,cp_output],axis = 1)\n",
    "X_test = np.array(X_test)"
   ]
  },
  {
   "cell_type": "markdown",
   "id": "9f58aa5c",
   "metadata": {},
   "source": [
    "# Anchors from ScalableSVM"
   ]
  },
  {
   "cell_type": "code",
   "execution_count": 4,
   "id": "a995928c-578b-4e88-8ffb-bb70f1901638",
   "metadata": {},
   "outputs": [],
   "source": [
    "sc_svm = joblib.load(data_path+modelfilename)"
   ]
  },
  {
   "cell_type": "code",
   "execution_count": 5,
   "id": "f49c3436-8141-482e-9acb-0234b070fbf3",
   "metadata": {},
   "outputs": [
    {
     "data": {
      "text/plain": [
       "{'alpha': array([-3.60960298e-05, -5.94496368e-06,  4.99781884e-01, ...,\n",
       "         4.99959117e-01, -3.87267241e-05,  5.00202682e-01]),\n",
       " 'b': array([-0.12019627]),\n",
       " 'b_eps': 0.2418774891053671,\n",
       " 'eta': 0.3,\n",
       " 'kernel': 'polynomial',\n",
       " 'param': 3,\n",
       " 'tau': array([[0.5]]),\n",
       " 'solver': 'osqp'}"
      ]
     },
     "execution_count": 5,
     "metadata": {},
     "output_type": "execute_result"
    }
   ],
   "source": [
    "sc_svm.get_params()"
   ]
  },
  {
   "cell_type": "code",
   "execution_count": 6,
   "id": "57af9fc1-17a0-467a-8549-32d837fdaf55",
   "metadata": {},
   "outputs": [
    {
     "data": {
      "image/png": "[encoded data removed]",
      "text/plain": [
       "<Figure size 640x480 with 2 Axes>"
      ]
     },
     "metadata": {},
     "output_type": "display_data"
    },
    {
     "name": "stdout",
     "output_type": "stream",
     "text": [
      "ACC = 0.846, F1 = 0.8549905838041432, PPV = 0.8832684824902723, NPV = 0.8065843621399177, TPR = 0.8284671532846716, TNR = 0.8672566371681416\n",
      "\n",
      "TP = 454, FP = 60, TN = 392, FN = 94\n"
     ]
    }
   ],
   "source": [
    "EvaluateModel(sc_svm, X_test, y_test, \"Scalable SVM - PSR\")"
   ]
  },
  {
   "cell_type": "code",
   "execution_count": 7,
   "id": "1674277b",
   "metadata": {},
   "outputs": [
    {
     "name": "stdout",
     "output_type": "stream",
     "text": [
      "Elapsed time [sec] - Anchors for 1000 test points: 2037.1132144927979\n"
     ]
    }
   ],
   "source": [
    "anchors_ssvm = GenerateAnchorRules(sc_svm, X_train, X_test, y_cp_test, y_test, [i[0] for i in list(enumerate(X_test))], feature_labels, list(sc_svm.classes_), precision_threshold = 0.5, filepath = res_path+results_anchorfile)"
   ]
  }
 ],
 "metadata": {
  "kernelspec": {
   "display_name": "Python 3 (ipykernel)",
   "language": "python",
   "name": "python3"
  },
  "language_info": {
   "codemirror_mode": {
    "name": "ipython",
    "version": 3
   },
   "file_extension": ".py",
   "mimetype": "text/x-python",
   "name": "python",
   "nbconvert_exporter": "python",
   "pygments_lexer": "ipython3",
   "version": "3.10.12"
  },
  "varInspector": {
   "cols": {
    "lenName": 16,
    "lenType": 16,
    "lenVar": 40
   },
   "kernels_config": {
    "python": {
     "delete_cmd_postfix": "",
     "delete_cmd_prefix": "del ",
     "library": "var_list.py",
     "varRefreshCmd": "print(var_dic_list())"
    },
    "r": {
     "delete_cmd_postfix": ") ",
     "delete_cmd_prefix": "rm(",
     "library": "var_list.r",
     "varRefreshCmd": "cat(var_dic_list()) "
    }
   },
   "types_to_exclude": [
    "module",
    "function",
    "builtin_function_or_method",
    "instance",
    "_Feature"
   ],
   "window_display": false
  }
 },
 "nbformat": 4,
 "nbformat_minor": 5
}
