{
 "cells": [
  {
   "cell_type": "code",
   "execution_count": 2,
   "id": "f5db37b3",
   "metadata": {},
   "outputs": [],
   "source": [
    "import pandas as pd\n",
    "import seaborn as sns\n",
    "# from sklearn.model_selection import train_test_split, cross_val_score\n",
    "\n",
    "from skrules import SkopeRules # in skope_rules.py, from sklearn.externals import six must be changed with import six. Also there, you have to change from collections import Counter, Iterable must be changed\n",
    "# with from collections import Counter and from collections.abc import Iterable\n",
    "\n",
    "from sklearn.metrics import confusion_matrix, ConfusionMatrixDisplay\n",
    "from sklearn.metrics import accuracy_score, precision_score, f1_score, recall_score\n",
    "\n",
    "from sklearn.model_selection import GridSearchCV, RandomizedSearchCV\n",
    "import time\n",
    "import joblib\n",
    "import matplotlib.pyplot as plt\n",
    "import os\n",
    "from os.path import exists\n",
    "\n",
    "from utilsData import *\n",
    "from SkopeAlgorithm import *\n",
    "from UtilsModel import *\n",
    "\n",
    "import warnings as w\n",
    "w.filterwarnings('ignore')"
   ]
  },
  {
   "cell_type": "markdown",
   "id": "8c2b739c-0877-47a1-affa-92274c31aea5",
   "metadata": {},
   "source": [
    "First, you have to run getdataset.py, in order to run the following code and other scripts.\n",
    "\n",
    "```\n",
    "python getdataset.py\n",
    "```"
   ]
  },
  {
   "cell_type": "code",
   "execution_count": 3,
   "id": "2d6a903a",
   "metadata": {},
   "outputs": [],
   "source": [
    "data_path = \"simulationVictor/\"\n",
    "datafilename = \"dataset.csv\"\n",
    "\n",
    "res_path = \"simulationVictor/skope/\"\n",
    "if not exists(res_path):\n",
    "    os.mkdir(res_path)\n",
    "    \n",
    "output = \"output\""
   ]
  },
  {
   "cell_type": "markdown",
   "id": "a7bb2f27",
   "metadata": {},
   "source": [
    "# Train, test, calibration loading"
   ]
  },
  {
   "cell_type": "code",
   "execution_count": 4,
   "id": "2b8601cb-157c-4a46-ae46-996a4b7ee849",
   "metadata": {},
   "outputs": [
    {
     "name": "stdout",
     "output_type": "stream",
     "text": [
      "Split Done\n"
     ]
    }
   ],
   "source": [
    "# Verifica si el archivo existe en la carpeta\n",
    "if os.path.exists(os.path.join(data_path, \"train.csv\")):\n",
    "    print(\"Train.csv exists\")\n",
    "else:\n",
    "    data = pd.read_csv(data_path+datafilename)\n",
    "    n_tr = 4000\n",
    "    n_ts = 1000\n",
    "    n_c = 5000\n",
    "    split_dataset(data.iloc[:,0:3].values,data.iloc[:,3].values,n_tr,n_ts,n_c,save_path=data_path)\n"
   ]
  },
  {
   "cell_type": "code",
   "execution_count": 5,
   "id": "e21dd28e",
   "metadata": {},
   "outputs": [],
   "source": [
    "train = pd.read_csv(data_path+\"train.csv\")\n",
    "train[output] = train[output].apply(lambda x: 1 if x > 0 else x)\n",
    "y_train = train[output]\n",
    "X_train = train.drop([output],axis = 1)\n",
    "\n",
    "calib = pd.read_csv(data_path+\"calib.csv\")\n",
    "calib[output] = calib[output].apply(lambda x: 1 if x > 0 else x)\n",
    "y_cal = calib[output]\n",
    "X_cal = calib.drop([\"output\"],axis = 1)\n",
    "\n",
    "test = pd.read_csv(data_path+\"test.csv\")\n",
    "test[output] = test[output].apply(lambda x: 1 if x > 0 else x)\n",
    "y_test = test[output]\n",
    "X_test = test.drop([output],axis = 1)\n"
   ]
  },
  {
   "cell_type": "markdown",
   "id": "a86ddf73",
   "metadata": {},
   "source": [
    "# Skope Rules for output = 1 (collision class)"
   ]
  },
  {
   "cell_type": "code",
   "execution_count": 6,
   "id": "f64d4859",
   "metadata": {},
   "outputs": [
    {
     "name": "stdout",
     "output_type": "stream",
     "text": [
      "Time spent for Randomized Search:  110.65966606140137  s\n",
      "0.6299596491845885 {'precision_min': 0.9, 'n_estimators': 10, 'max_depth_duplication': 3}\n",
      "0.6982972910588071 {'precision_min': 0.7, 'n_estimators': 100, 'max_depth_duplication': 2}\n",
      "0.6982972910588071 {'precision_min': 0.8, 'n_estimators': 100, 'max_depth_duplication': 2}\n",
      "0.719335447609778 {'precision_min': 0.9, 'n_estimators': 100, 'max_depth_duplication': 3}\n",
      "0.7223713086343992 {'precision_min': 0.7, 'n_estimators': 50, 'max_depth_duplication': 2}\n",
      "0.7540580068437699 {'precision_min': 0.6, 'n_estimators': 100, 'max_depth_duplication': 5}\n",
      "0.7307557460581282 {'precision_min': 0.7, 'n_estimators': 100, 'max_depth_duplication': 3}\n",
      "0.7126649079186576 {'precision_min': 0.5, 'n_estimators': 10, 'max_depth_duplication': 5}\n",
      "0.7540580068437699 {'precision_min': 0.5, 'n_estimators': 100, 'max_depth_duplication': 5}\n",
      "0.7540580068437699 {'precision_min': 0.5, 'n_estimators': 100, 'max_depth_duplication': 7}\n",
      "SkopeRules best parameters with Randomized Search:\n",
      "{'precision_min': 0.6, 'n_estimators': 100, 'max_depth_duplication': 5}\n",
      "RULE 1: IF SafetyMargin <= 0.04231328144669533 and Eta <= 0.8771583139896393 and Tau > 0.31463856995105743 THEN output = 1, COVERING: 0.48856416772554, ERROR: 0.04353233830845771\n",
      "\n",
      "RULE 2: IF SafetyMargin <= 0.035773858428001404 and Tau > 0.3334501087665558 THEN output = 1, COVERING: 0.47365079365079366, ERROR: 0.03116883116883118\n",
      "\n",
      "RULE 3: IF SafetyMargin <= 0.04231328144669533 and Tau <= 0.5655476748943329 and Tau > 0.33400820195674896 THEN output = 1, COVERING: 0.16805644644002565, ERROR: 0.16025641025641024\n",
      "\n",
      "RULE 4: IF SafetyMargin <= 0.04231328144669533 and Eta > 0.7447894811630249 and Tau > 0.36027300357818604 THEN output = 1, COVERING: 0.11912427559562137, ERROR: 0.13145539906103287\n",
      "\n"
     ]
    }
   ],
   "source": [
    "param_grid = [{\"n_estimators\":[10,50,100],\"max_depth_duplication\":[2,3,5,7], \"precision_min\":[0.5, 0.6,0.7,0.8,0.9]}]# list of dicts with different parameters (chosen between SkopeRules ones)\n",
    "\n",
    "\n",
    "bestmodel = OptimizedSkopeRules(X_train, y_train, param_grid, cvmetric=\"f1\", save_rules = True, rules_path = res_path+\"skope_rules_collisions.csv\", save_model = True, save_path = res_path+\"skope_best_collisions.sav\")\n"
   ]
  },
  {
   "cell_type": "code",
   "execution_count": 7,
   "id": "6b6d7057",
   "metadata": {},
   "outputs": [
    {
     "data": {
      "image/png": "[encoded data removed]",
      "text/plain": [
       "<Figure size 640x480 with 2 Axes>"
      ]
     },
     "metadata": {},
     "output_type": "display_data"
    },
    {
     "name": "stdout",
     "output_type": "stream",
     "text": [
      "ACC = 0.738, F1 = 0.6506666666666666, PPV = 0.8970588235294118, NPV = 0.6785714285714286, TPR = 0.5104602510460251, TNR = 0.946360153256705\n",
      "\n",
      "TP = 244, FP = 28, TN = 494, FN = 234\n"
     ]
    }
   ],
   "source": [
    "EvaluateModel(bestmodel, X_test, y_test, \"Skope-Collisions\")\n"
   ]
  },
  {
   "cell_type": "markdown",
   "id": "ed458f5c",
   "metadata": {},
   "source": [
    "# Skope rules for output = 0 (non collision)"
   ]
  },
  {
   "cell_type": "markdown",
   "id": "cda2d426",
   "metadata": {},
   "source": [
    "Swap labels to denote non collisions with 1\n"
   ]
  },
  {
   "cell_type": "code",
   "execution_count": 8,
   "id": "fcff602a",
   "metadata": {},
   "outputs": [],
   "source": [
    "y_train = 1-y_train\n",
    "y_test = 1-y_test\n",
    "y_cal = 1- y_cal"
   ]
  },
  {
   "cell_type": "code",
   "execution_count": 9,
   "id": "a8f0a5be",
   "metadata": {},
   "outputs": [
    {
     "name": "stdout",
     "output_type": "stream",
     "text": [
      "Time spent for Randomized Search:  107.42993903160095  s\n",
      "0.7312642021796022 {'precision_min': 0.9, 'n_estimators': 10, 'max_depth_duplication': 3}\n",
      "0.797527784000223 {'precision_min': 0.7, 'n_estimators': 100, 'max_depth_duplication': 2}\n",
      "0.7051122891750217 {'precision_min': 0.8, 'n_estimators': 100, 'max_depth_duplication': 2}\n",
      "0.7393217127738825 {'precision_min': 0.9, 'n_estimators': 100, 'max_depth_duplication': 3}\n",
      "0.7971169681139187 {'precision_min': 0.7, 'n_estimators': 50, 'max_depth_duplication': 2}\n",
      "0.8450375581254954 {'precision_min': 0.6, 'n_estimators': 100, 'max_depth_duplication': 5}\n",
      "0.8223373790749768 {'precision_min': 0.7, 'n_estimators': 100, 'max_depth_duplication': 3}\n",
      "0.8535199680421701 {'precision_min': 0.5, 'n_estimators': 10, 'max_depth_duplication': 5}\n",
      "0.8450375581254954 {'precision_min': 0.5, 'n_estimators': 100, 'max_depth_duplication': 5}\n",
      "0.8450375581254954 {'precision_min': 0.5, 'n_estimators': 100, 'max_depth_duplication': 7}\n",
      "SkopeRules best parameters with Randomized Search:\n",
      "{'precision_min': 0.5, 'n_estimators': 10, 'max_depth_duplication': 5}\n",
      "RULE 1: IF SafetyMargin > 0.041092799976468086 and Tau <= 0.47480344772338867 THEN output = 0, COVERING: 0.5300245098039216, ERROR: 0.039955604883462836\n",
      "\n",
      "RULE 2: IF SafetyMargin > 0.041092799976468086 and Eta > 0.30444639921188354 and Tau <= 0.6077944934368134 THEN output = 0, COVERING: 0.4701627486437613, ERROR: 0.02621722846441943\n",
      "\n",
      "RULE 3: IF SafetyMargin > 0.06147272326052189 and Tau > 0.5593787729740143 THEN output = 0, COVERING: 0.22967980295566504, ERROR: 0.3362989323843416\n",
      "\n",
      "RULE 4: IF SafetyMargin > 0.04133075103163719 and Eta <= 0.31748640537261963 and Tau <= 0.5599760413169861 THEN output = 0, COVERING: 0.18092909535452323, ERROR: 0.16384180790960456\n",
      "\n",
      "RULE 5: IF SafetyMargin <= 0.04231328144669533 and SafetyMargin > 0.02299954742193222 and Tau <= 0.36027300357818604 THEN output = 0, COVERING: 0.09836065573770492, ERROR: 0.2925764192139738\n",
      "\n"
     ]
    }
   ],
   "source": [
    "# parameters optimization with RandomizedCV\n",
    "\n",
    "param_grid = [{\"n_estimators\":[10,50,100],\"max_depth_duplication\":[2,3,5,7], \"precision_min\":[0.5, 0.6,0.7,0.8,0.9]}]# list of dicts with different parameters (chosen between SkopeRules ones)\n",
    "\n",
    "\n",
    "bestmodel = OptimizedSkopeRules(X_train, y_train, param_grid, cvmetric=\"f1\", save_rules = True, rules_path = res_path+\"skope_rules_noncollisions.csv\", save_model = True, save_path = res_path+\"skope_best_noncollisions.sav\")\n"
   ]
  },
  {
   "cell_type": "code",
   "execution_count": 10,
   "id": "750810e4",
   "metadata": {},
   "outputs": [
    {
     "data": {
      "image/png": "[encoded data removed]",
      "text/plain": [
       "<Figure size 640x480 with 2 Axes>"
      ]
     },
     "metadata": {},
     "output_type": "display_data"
    },
    {
     "name": "stdout",
     "output_type": "stream",
     "text": [
      "ACC = 0.835, F1 = 0.8514851485148515, PPV = 0.8030560271646859, NPV = 0.8807785888077859, TPR = 0.9061302681992337, TNR = 0.7573221757322176\n",
      "\n",
      "TP = 473, FP = 116, TN = 362, FN = 49\n"
     ]
    }
   ],
   "source": [
    "EvaluateModel(bestmodel, X_test, y_test, \"Skope-NonCollisions\")"
   ]
  }
 ],
 "metadata": {
  "kernelspec": {
   "display_name": "Python 3 (ipykernel)",
   "language": "python",
   "name": "python3"
  },
  "language_info": {
   "codemirror_mode": {
    "name": "ipython",
    "version": 3
   },
   "file_extension": ".py",
   "mimetype": "text/x-python",
   "name": "python",
   "nbconvert_exporter": "python",
   "pygments_lexer": "ipython3",
   "version": "3.10.12"
  },
  "varInspector": {
   "cols": {
    "lenName": 16,
    "lenType": 16,
    "lenVar": 40
   },
   "kernels_config": {
    "python": {
     "delete_cmd_postfix": "",
     "delete_cmd_prefix": "del ",
     "library": "var_list.py",
     "varRefreshCmd": "print(var_dic_list())"
    },
    "r": {
     "delete_cmd_postfix": ") ",
     "delete_cmd_prefix": "rm(",
     "library": "var_list.r",
     "varRefreshCmd": "cat(var_dic_list()) "
    }
   },
   "types_to_exclude": [
    "module",
    "function",
    "builtin_function_or_method",
    "instance",
    "_Feature"
   ],
   "window_display": false
  }
 },
 "nbformat": 4,
 "nbformat_minor": 5
}
