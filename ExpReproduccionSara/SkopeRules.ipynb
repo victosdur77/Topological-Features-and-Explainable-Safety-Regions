{
 "cells": [
  {
   "cell_type": "code",
   "execution_count": 1,
   "id": "f5db37b3",
   "metadata": {},
   "outputs": [],
   "source": [
    "import pandas as pd\n",
    "import seaborn as sns\n",
    "# from sklearn.model_selection import train_test_split, cross_val_score\n",
    "\n",
    "from skrules import SkopeRules # in skope_rules.py, from sklearn.externals import six must be changed with import six. Also there, you have to change from collections import Counter, Iterable must be changed\n",
    "# with from collections import Counter and from collections.abc import Iterable\n",
    "\n",
    "from sklearn.metrics import confusion_matrix, ConfusionMatrixDisplay\n",
    "from sklearn.metrics import accuracy_score, precision_score, f1_score, recall_score\n",
    "\n",
    "from sklearn.model_selection import GridSearchCV, RandomizedSearchCV\n",
    "import time\n",
    "import joblib\n",
    "import matplotlib.pyplot as plt\n",
    "import os\n",
    "from os.path import exists\n",
    "\n",
    "from utilsData import *\n",
    "from SkopeAlgorithm import *\n",
    "from UtilsModel import *\n",
    "\n",
    "import warnings as w\n",
    "w.filterwarnings('ignore')"
   ]
  },
  {
   "cell_type": "code",
   "execution_count": 2,
   "id": "2d6a903a",
   "metadata": {},
   "outputs": [],
   "source": [
    "data_path = \"simulationVictor/\"\n",
    "datafilename = \"dataset.csv\"\n",
    "\n",
    "res_path = \"simulationVictor/skope/\"\n",
    "if not exists(res_path):\n",
    "    os.mkdir(res_path)\n",
    "    \n",
    "output = \"output\""
   ]
  },
  {
   "cell_type": "markdown",
   "id": "a7bb2f27",
   "metadata": {},
   "source": [
    "# Train, test, calibration loading"
   ]
  },
  {
   "cell_type": "code",
   "execution_count": 3,
   "id": "2b8601cb-157c-4a46-ae46-996a4b7ee849",
   "metadata": {},
   "outputs": [
    {
     "name": "stdout",
     "output_type": "stream",
     "text": [
      "Train.csv exists\n"
     ]
    }
   ],
   "source": [
    "# Verifica si el archivo existe en la carpeta\n",
    "if os.path.exists(os.path.join(data_path, \"train.csv\")):\n",
    "    print(\"Train.csv exists\")\n",
    "else:\n",
    "    data = pd.read_csv(data_path+datafilename)\n",
    "    n_tr = 4000\n",
    "    n_ts = 1000\n",
    "    n_c = 5000\n",
    "    split_dataset(data.iloc[:,0:3].values,data.iloc[:,3].values,n_tr,n_ts,n_c,save_path=data_path)\n"
   ]
  },
  {
   "cell_type": "code",
   "execution_count": 4,
   "id": "e21dd28e",
   "metadata": {},
   "outputs": [],
   "source": [
    "train = pd.read_csv(data_path+\"train.csv\")\n",
    "train[output] = train[output].apply(lambda x: 1 if x > 0 else x)\n",
    "y_train = train[output]\n",
    "X_train = train.drop([output],axis = 1)\n",
    "\n",
    "calib = pd.read_csv(data_path+\"calib.csv\")\n",
    "calib[output] = calib[output].apply(lambda x: 1 if x > 0 else x)\n",
    "y_cal = calib[output]\n",
    "X_cal = calib.drop([\"output\"],axis = 1)\n",
    "\n",
    "test = pd.read_csv(data_path+\"test.csv\")\n",
    "test[output] = test[output].apply(lambda x: 1 if x > 0 else x)\n",
    "y_test = test[output]\n",
    "X_test = test.drop([output],axis = 1)\n"
   ]
  },
  {
   "cell_type": "markdown",
   "id": "a86ddf73",
   "metadata": {},
   "source": [
    "# Skope Rules for output = 1 (collision class)"
   ]
  },
  {
   "cell_type": "code",
   "execution_count": 5,
   "id": "f64d4859",
   "metadata": {},
   "outputs": [
    {
     "name": "stdout",
     "output_type": "stream",
     "text": [
      "Time spent for Randomized Search:  86.19366908073425  s\n",
      "0.6552710131398582 {'precision_min': 0.9, 'n_estimators': 10, 'max_depth_duplication': 3}\n",
      "0.766000997855504 {'precision_min': 0.7, 'n_estimators': 100, 'max_depth_duplication': 2}\n",
      "0.735212262819547 {'precision_min': 0.8, 'n_estimators': 100, 'max_depth_duplication': 2}\n",
      "0.6977618476302657 {'precision_min': 0.9, 'n_estimators': 100, 'max_depth_duplication': 3}\n",
      "0.760800900463794 {'precision_min': 0.7, 'n_estimators': 50, 'max_depth_duplication': 2}\n",
      "0.778844923584059 {'precision_min': 0.6, 'n_estimators': 100, 'max_depth_duplication': 5}\n",
      "0.766000997855504 {'precision_min': 0.7, 'n_estimators': 100, 'max_depth_duplication': 3}\n",
      "0.7438455884972471 {'precision_min': 0.5, 'n_estimators': 10, 'max_depth_duplication': 5}\n",
      "0.778844923584059 {'precision_min': 0.5, 'n_estimators': 100, 'max_depth_duplication': 5}\n",
      "0.778844923584059 {'precision_min': 0.5, 'n_estimators': 100, 'max_depth_duplication': 7}\n",
      "SkopeRules best parameters with Randomized Search:\n",
      "{'precision_min': 0.6, 'n_estimators': 100, 'max_depth_duplication': 5}\n",
      "RULE 1: IF SafetyMargin <= 0.03552545793354511 and Tau > 0.3444880247116089 THEN output = 1, COVERING: 0.468370607028754, ERROR: 0.03425559947299073\n",
      "\n",
      "RULE 2: IF SafetyMargin <= 0.023114279843866825 and Tau <= 0.40945008397102356 THEN output = 1, COVERING: 0.18912080961416824, ERROR: 0.10479041916167664\n",
      "\n",
      "RULE 3: IF SafetyMargin > 0.04413301683962345 and Eta <= 0.49662528932094574 and Tau > 0.6027356088161469 THEN output = 1, COVERING: 0.14546640574037834, ERROR: 0.38055555555555554\n",
      "\n"
     ]
    }
   ],
   "source": [
    "param_grid = [{\"n_estimators\":[10,50,100],\"max_depth_duplication\":[2,3,5,7], \"precision_min\":[0.5, 0.6,0.7,0.8,0.9]}]# list of dicts with different parameters (chosen between SkopeRules ones)\n",
    "\n",
    "\n",
    "bestmodel = OptimizedSkopeRules(X_train, y_train, param_grid, cvmetric=\"f1\", save_rules = True, rules_path = res_path+\"skope_rules_collisions.csv\", save_model = True, save_path = res_path+\"skope_best_collisions.sav\")\n"
   ]
  },
  {
   "cell_type": "code",
   "execution_count": 6,
   "id": "6b6d7057",
   "metadata": {},
   "outputs": [
    {
     "data": {
      "image/png": "[encoded data removed]",
      "text/plain": [
       "<Figure size 640x480 with 2 Axes>"
      ]
     },
     "metadata": {},
     "output_type": "display_data"
    },
    {
     "name": "stdout",
     "output_type": "stream",
     "text": [
      "ACC = 0.827, F1 = 0.8049605411499436, PPV = 0.8728606356968215, NPV = 0.7952622673434856, TPR = 0.7468619246861925, TNR = 0.9003831417624522\n",
      "\n",
      "TP = 357, FP = 52, TN = 470, FN = 121\n"
     ]
    }
   ],
   "source": [
    "EvaluateModel(bestmodel, X_test, y_test, \"Skope-Collisions\")\n"
   ]
  },
  {
   "cell_type": "markdown",
   "id": "ed458f5c",
   "metadata": {},
   "source": [
    "# Skope rules for output = 0 (non collision)"
   ]
  },
  {
   "cell_type": "markdown",
   "id": "cda2d426",
   "metadata": {},
   "source": [
    "Swap labels to denote non collisions with 1\n"
   ]
  },
  {
   "cell_type": "code",
   "execution_count": 7,
   "id": "fcff602a",
   "metadata": {},
   "outputs": [],
   "source": [
    "y_train = 1-y_train\n",
    "y_test = 1-y_test\n",
    "y_cal = 1- y_cal"
   ]
  },
  {
   "cell_type": "code",
   "execution_count": 8,
   "id": "a8f0a5be",
   "metadata": {},
   "outputs": [
    {
     "name": "stdout",
     "output_type": "stream",
     "text": [
      "Time spent for Randomized Search:  84.90806770324707  s\n",
      "0.7487581395194451 {'precision_min': 0.9, 'n_estimators': 10, 'max_depth_duplication': 3}\n",
      "0.7917265320139177 {'precision_min': 0.7, 'n_estimators': 100, 'max_depth_duplication': 2}\n",
      "0.7251769606182898 {'precision_min': 0.8, 'n_estimators': 100, 'max_depth_duplication': 2}\n",
      "0.762393014087568 {'precision_min': 0.9, 'n_estimators': 100, 'max_depth_duplication': 3}\n",
      "0.7937737811343022 {'precision_min': 0.7, 'n_estimators': 50, 'max_depth_duplication': 2}\n",
      "0.854219534565398 {'precision_min': 0.6, 'n_estimators': 100, 'max_depth_duplication': 5}\n",
      "0.8455539206383111 {'precision_min': 0.7, 'n_estimators': 100, 'max_depth_duplication': 3}\n",
      "0.8600907435674877 {'precision_min': 0.5, 'n_estimators': 10, 'max_depth_duplication': 5}\n",
      "0.854219534565398 {'precision_min': 0.5, 'n_estimators': 100, 'max_depth_duplication': 5}\n",
      "0.854219534565398 {'precision_min': 0.5, 'n_estimators': 100, 'max_depth_duplication': 7}\n",
      "SkopeRules best parameters with Randomized Search:\n",
      "{'precision_min': 0.5, 'n_estimators': 10, 'max_depth_duplication': 5}\n",
      "RULE 1: IF SafetyMargin > 0.040334392338991165 and Tau <= 0.4974003732204437 THEN output = 0, COVERING: 0.537394451145959, ERROR: 0.05010660980810233\n",
      "\n",
      "RULE 2: IF SafetyMargin > 0.0397886261343956 and Eta > 0.30642834305763245 and Tau <= 0.6090118587017059 THEN output = 0, COVERING: 0.47083839611178613, ERROR: 0.03125\n",
      "\n",
      "RULE 3: IF SafetyMargin > 0.06201409734785557 and Tau > 0.6082371175289154 THEN output = 0, COVERING: 0.19852941176470587, ERROR: 0.3441295546558705\n",
      "\n",
      "RULE 4: IF SafetyMargin > 0.0397886261343956 and Eta <= 0.3262890875339508 and Tau <= 0.6082371175289154 THEN output = 0, COVERING: 0.18504901960784315, ERROR: 0.21558441558441555\n",
      "\n",
      "RULE 5: IF SafetyMargin <= 0.04449796304106712 and SafetyMargin > 0.023114279843866825 and Tau <= 0.3692335784435272 THEN output = 0, COVERING: 0.11035758323057954, ERROR: 0.2350427350427351\n",
      "\n",
      "RULE 6: IF SafetyMargin > 0.04449796304106712 and Eta > 0.4730372428894043 and Tau > 0.6993521451950073 THEN output = 0, COVERING: 0.11035758323057954, ERROR: 0.3697183098591549\n",
      "\n"
     ]
    }
   ],
   "source": [
    "# parameters optimization with RandomizedCV\n",
    "\n",
    "param_grid = [{\"n_estimators\":[10,50,100],\"max_depth_duplication\":[2,3,5,7], \"precision_min\":[0.5, 0.6,0.7,0.8,0.9]}]# list of dicts with different parameters (chosen between SkopeRules ones)\n",
    "\n",
    "\n",
    "bestmodel = OptimizedSkopeRules(X_train, y_train, param_grid, cvmetric=\"f1\", save_rules = True, rules_path = res_path+\"skope_rules_noncollisions.csv\", save_model = True, save_path = res_path+\"skope_best_noncollisions.sav\")\n"
   ]
  },
  {
   "cell_type": "code",
   "execution_count": 10,
   "id": "750810e4",
   "metadata": {},
   "outputs": [
    {
     "data": {
      "image/png": "[encoded data removed]",
      "text/plain": [
       "<Figure size 640x480 with 2 Axes>"
      ]
     },
     "metadata": {},
     "output_type": "display_data"
    },
    {
     "name": "stdout",
     "output_type": "stream",
     "text": [
      "ACC = 0.815, F1 = 0.8387096774193549, PPV = 0.7696, NPV = 0.8906666666666667, TPR = 0.921455938697318, TNR = 0.698744769874477\n",
      "\n",
      "TP = 481, FP = 144, TN = 334, FN = 41\n"
     ]
    }
   ],
   "source": [
    "EvaluateModel(bestmodel, X_test, y_test, \"Skope-NonCollisions\")"
   ]
  }
 ],
 "metadata": {
  "kernelspec": {
   "display_name": "Python 3 (ipykernel)",
   "language": "python",
   "name": "python3"
  },
  "language_info": {
   "codemirror_mode": {
    "name": "ipython",
    "version": 3
   },
   "file_extension": ".py",
   "mimetype": "text/x-python",
   "name": "python",
   "nbconvert_exporter": "python",
   "pygments_lexer": "ipython3",
   "version": "3.10.12"
  },
  "varInspector": {
   "cols": {
    "lenName": 16,
    "lenType": 16,
    "lenVar": 40
   },
   "kernels_config": {
    "python": {
     "delete_cmd_postfix": "",
     "delete_cmd_prefix": "del ",
     "library": "var_list.py",
     "varRefreshCmd": "print(var_dic_list())"
    },
    "r": {
     "delete_cmd_postfix": ") ",
     "delete_cmd_prefix": "rm(",
     "library": "var_list.r",
     "varRefreshCmd": "cat(var_dic_list()) "
    }
   },
   "types_to_exclude": [
    "module",
    "function",
    "builtin_function_or_method",
    "instance",
    "_Feature"
   ],
   "window_display": false
  }
 },
 "nbformat": 4,
 "nbformat_minor": 5
}
