{
 "cells": [
  {
   "cell_type": "code",
   "execution_count": 1,
   "id": "51a68309",
   "metadata": {},
   "outputs": [],
   "source": [
    "import pandas as pd\n",
    "import seaborn as sns\n",
    "import numpy as np\n",
    "import time\n",
    "\n",
    "import matplotlib.pyplot as plt\n",
    "\n",
    "import scipy\n",
    "from scipy import linalg\n",
    "\n",
    "from sklearn.metrics import confusion_matrix\n",
    "from sklearn.model_selection import train_test_split\n",
    "\n",
    "from WrapScalableSVM import *\n",
    "from Utils_SSVM import *\n",
    "from utilsData import *\n",
    "from modelEvaluation import *\n",
    "from utilsPlot import *\n",
    "\n",
    "import joblib"
   ]
  },
  {
   "cell_type": "markdown",
   "id": "c2305380-34f7-4673-9264-bd4a1eded487",
   "metadata": {},
   "source": [
    "# Tests for the xAI-2024 conference paper\n",
    "# Load datasets"
   ]
  },
  {
   "cell_type": "code",
   "execution_count": 2,
   "id": "38245c21",
   "metadata": {},
   "outputs": [],
   "source": [
    "datapath = \"simulationVictor/\"\n",
    "train = \"train.csv\"\n",
    "test = \"test.csv\"\n",
    "cal = \"calib.csv\""
   ]
  },
  {
   "cell_type": "code",
   "execution_count": 3,
   "id": "2c91a943",
   "metadata": {},
   "outputs": [
    {
     "data": {
      "text/html": [
       "<div>\n",
       "<style scoped>\n",
       "    .dataframe tbody tr th:only-of-type {\n",
       "        vertical-align: middle;\n",
       "    }\n",
       "\n",
       "    .dataframe tbody tr th {\n",
       "        vertical-align: top;\n",
       "    }\n",
       "\n",
       "    .dataframe thead th {\n",
       "        text-align: right;\n",
       "    }\n",
       "</style>\n",
       "<table border=\"1\" class=\"dataframe\">\n",
       "  <thead>\n",
       "    <tr style=\"text-align: right;\">\n",
       "      <th></th>\n",
       "      <th>SafetyMargin</th>\n",
       "      <th>Eta</th>\n",
       "      <th>Tau</th>\n",
       "      <th>output</th>\n",
       "    </tr>\n",
       "  </thead>\n",
       "  <tbody>\n",
       "    <tr>\n",
       "      <th>0</th>\n",
       "      <td>0.008314</td>\n",
       "      <td>0.112446</td>\n",
       "      <td>0.019537</td>\n",
       "      <td>32</td>\n",
       "    </tr>\n",
       "    <tr>\n",
       "      <th>1</th>\n",
       "      <td>0.030597</td>\n",
       "      <td>0.509708</td>\n",
       "      <td>0.538982</td>\n",
       "      <td>20</td>\n",
       "    </tr>\n",
       "    <tr>\n",
       "      <th>2</th>\n",
       "      <td>0.035434</td>\n",
       "      <td>0.536123</td>\n",
       "      <td>0.622389</td>\n",
       "      <td>9</td>\n",
       "    </tr>\n",
       "    <tr>\n",
       "      <th>3</th>\n",
       "      <td>0.085320</td>\n",
       "      <td>0.519522</td>\n",
       "      <td>0.770560</td>\n",
       "      <td>0</td>\n",
       "    </tr>\n",
       "    <tr>\n",
       "      <th>4</th>\n",
       "      <td>0.093312</td>\n",
       "      <td>0.121861</td>\n",
       "      <td>0.860966</td>\n",
       "      <td>0</td>\n",
       "    </tr>\n",
       "    <tr>\n",
       "      <th>...</th>\n",
       "      <td>...</td>\n",
       "      <td>...</td>\n",
       "      <td>...</td>\n",
       "      <td>...</td>\n",
       "    </tr>\n",
       "    <tr>\n",
       "      <th>3995</th>\n",
       "      <td>0.000478</td>\n",
       "      <td>0.546819</td>\n",
       "      <td>0.683051</td>\n",
       "      <td>307</td>\n",
       "    </tr>\n",
       "    <tr>\n",
       "      <th>3996</th>\n",
       "      <td>0.043992</td>\n",
       "      <td>0.370331</td>\n",
       "      <td>0.283118</td>\n",
       "      <td>0</td>\n",
       "    </tr>\n",
       "    <tr>\n",
       "      <th>3997</th>\n",
       "      <td>0.021458</td>\n",
       "      <td>0.215368</td>\n",
       "      <td>0.217972</td>\n",
       "      <td>21</td>\n",
       "    </tr>\n",
       "    <tr>\n",
       "      <th>3998</th>\n",
       "      <td>0.015237</td>\n",
       "      <td>0.992937</td>\n",
       "      <td>0.585146</td>\n",
       "      <td>9</td>\n",
       "    </tr>\n",
       "    <tr>\n",
       "      <th>3999</th>\n",
       "      <td>0.082901</td>\n",
       "      <td>0.660057</td>\n",
       "      <td>0.266084</td>\n",
       "      <td>0</td>\n",
       "    </tr>\n",
       "  </tbody>\n",
       "</table>\n",
       "<p>4000 rows × 4 columns</p>\n",
       "</div>"
      ],
      "text/plain": [
       "      SafetyMargin       Eta       Tau  output\n",
       "0         0.008314  0.112446  0.019537      32\n",
       "1         0.030597  0.509708  0.538982      20\n",
       "2         0.035434  0.536123  0.622389       9\n",
       "3         0.085320  0.519522  0.770560       0\n",
       "4         0.093312  0.121861  0.860966       0\n",
       "...            ...       ...       ...     ...\n",
       "3995      0.000478  0.546819  0.683051     307\n",
       "3996      0.043992  0.370331  0.283118       0\n",
       "3997      0.021458  0.215368  0.217972      21\n",
       "3998      0.015237  0.992937  0.585146       9\n",
       "3999      0.082901  0.660057  0.266084       0\n",
       "\n",
       "[4000 rows x 4 columns]"
      ]
     },
     "execution_count": 3,
     "metadata": {},
     "output_type": "execute_result"
    }
   ],
   "source": [
    "dbtrain = pd.read_csv(datapath+train)\n",
    "dbtest = pd.read_csv(datapath+test)\n",
    "dbcal = pd.read_csv(datapath+cal)\n",
    "dbtrain"
   ]
  },
  {
   "cell_type": "markdown",
   "id": "69c6a310-acaa-443f-bb3a-172bf744c3df",
   "metadata": {},
   "source": [
    "Separate features and labels, and convert label 0 with 1 and 1 with -1"
   ]
  },
  {
   "cell_type": "code",
   "execution_count": 4,
   "id": "fbff073b",
   "metadata": {},
   "outputs": [],
   "source": [
    "Xtr = dbtrain[['SafetyMargin', 'Eta', 'Tau']].values\n",
    "Ytr = dbtrain[['output']].values\n",
    "Ytr[Ytr>1] = -1\n",
    "Ytr[Ytr==0] = 1\n",
    "\n",
    "Xts = dbtest[['SafetyMargin', 'Eta', 'Tau']].values\n",
    "Yts = dbtest[['output']].values\n",
    "Yts[Yts>1] = -1\n",
    "Yts[Yts==0] = 1\n",
    "\n",
    "Xcal = dbcal[['SafetyMargin', 'Eta', 'Tau']].values\n",
    "Ycal = dbcal[['output']].values\n",
    "Ycal[Ycal>1] = -1\n",
    "Ycal[Ycal==0] = 1"
   ]
  },
  {
   "cell_type": "code",
   "execution_count": 5,
   "id": "dc6650c6-90f5-4939-8af2-d5e621e1a2c7",
   "metadata": {},
   "outputs": [
    {
     "name": "stdout",
     "output_type": "stream",
     "text": [
      "<class 'pandas.core.frame.DataFrame'>\n",
      "RangeIndex: 4000 entries, 0 to 3999\n",
      "Data columns (total 4 columns):\n",
      " #   Column        Non-Null Count  Dtype  \n",
      "---  ------        --------------  -----  \n",
      " 0   SafetyMargin  4000 non-null   float64\n",
      " 1   Eta           4000 non-null   float64\n",
      " 2   Tau           4000 non-null   float64\n",
      " 3   output        4000 non-null   int64  \n",
      "dtypes: float64(3), int64(1)\n",
      "memory usage: 125.1 KB\n",
      "None\n",
      "float64\n"
     ]
    },
    {
     "data": {
      "text/plain": [
       "dtype('int64')"
      ]
     },
     "execution_count": 5,
     "metadata": {},
     "output_type": "execute_result"
    }
   ],
   "source": [
    "print(dbtrain.info())\n",
    "print(Xtr.dtype)\n",
    "Ytr.dtype"
   ]
  },
  {
   "cell_type": "markdown",
   "id": "0fc1f946-cccd-48b7-9c7c-8e14c369796b",
   "metadata": {},
   "source": [
    "# SVM parameters setting"
   ]
  },
  {
   "cell_type": "code",
   "execution_count": 6,
   "id": "72958a2c",
   "metadata": {},
   "outputs": [],
   "source": [
    "# Parameters settings\n",
    "kernel = \"gaussian\" #with gaussian work, with polynomial no.\n",
    "param = 0.5 # play with this to improve model evaluation, explaination on chatgpt\n",
    "tau = np.array([[0.5]])\n",
    "eta = 0.3"
   ]
  },
  {
   "cell_type": "markdown",
   "id": "04a74aac-8451-4a11-a449-b4ca9d1614f2",
   "metadata": {},
   "source": [
    "# Scaling setting"
   ]
  },
  {
   "cell_type": "code",
   "execution_count": 7,
   "id": "d28da3cc-0a13-4b92-b1ef-551cf0788545",
   "metadata": {},
   "outputs": [],
   "source": [
    "epsilon = 0.1"
   ]
  },
  {
   "cell_type": "markdown",
   "id": "da3ee4d4",
   "metadata": {},
   "source": [
    "## 1) Classic SVM"
   ]
  },
  {
   "cell_type": "code",
   "execution_count": 8,
   "id": "c0098a9c",
   "metadata": {},
   "outputs": [
    {
     "name": "stdout",
     "output_type": "stream",
     "text": [
      "Elapsed time: 77.94875264167786 seconds\n"
     ]
    }
   ],
   "source": [
    "start_time = time.time()\n",
    "\n",
    "model = ScalableSVMClassifier(eta, kernel, param, tau)\n",
    "\n",
    "model = model.fit(Xtr,Ytr)\n",
    "joblib.dump(model, datapath+\"classicSVM_safeEff.sav\")\n",
    "end_time = time.time()\n",
    "\n",
    "elapsed_time = end_time - start_time\n",
    "\n",
    "print(f\"Elapsed time: {elapsed_time} seconds\")"
   ]
  },
  {
   "cell_type": "code",
   "execution_count": 9,
   "id": "21d2b59f",
   "metadata": {},
   "outputs": [
    {
     "data": {
      "text/plain": [
       "{'alpha': array([ 5.00152384e-01,  4.99955933e-01,  4.99933726e-01, ...,\n",
       "         5.00076805e-01,  4.99889858e-01, -3.62958554e-05]),\n",
       " 'b': array([-0.07530299]),\n",
       " 'b_eps': 0,\n",
       " 'eta': 0.3,\n",
       " 'kernel': 'gaussian',\n",
       " 'param': 0.5,\n",
       " 'tau': array([[0.5]]),\n",
       " 'solver': 'osqp'}"
      ]
     },
     "execution_count": 9,
     "metadata": {},
     "output_type": "execute_result"
    }
   ],
   "source": [
    "model = model.FPcontrol(Xcal, Ycal, epsilon,'classic')\n",
    "model.get_params()"
   ]
  },
  {
   "cell_type": "code",
   "execution_count": 10,
   "id": "76553068",
   "metadata": {},
   "outputs": [
    {
     "data": {
      "image/png": "[encoded data removed]",
      "text/plain": [
       "<Figure size 640x480 with 2 Axes>"
      ]
     },
     "metadata": {},
     "output_type": "display_data"
    },
    {
     "name": "stdout",
     "output_type": "stream",
     "text": [
      "ACC = 0.782, F1 = 0.8057040998217468, PPV = 0.7847222222222222, NPV = 0.7783018867924528, TPR = 0.8278388278388278, TNR = 0.7268722466960352, FPR = 0.27312775330396477, FNR = 0.17216117216117216\n",
      "\n",
      "TP = 452, FP = 124, TN = 330, FN = 94\n"
     ]
    }
   ],
   "source": [
    "metricsClassic = EvaluateModel(model, Xts, Yts, f\"SVM with {model.method} method\")\n"
   ]
  },
  {
   "cell_type": "code",
   "execution_count": 11,
   "id": "4c8afd10-5d9b-409e-87ff-77c32efa91b6",
   "metadata": {},
   "outputs": [
    {
     "data": {
      "text/plain": [
       "['simulationVictor/Classic_SVM_safe.sav']"
      ]
     },
     "execution_count": 11,
     "metadata": {},
     "output_type": "execute_result"
    }
   ],
   "source": [
    "joblib.dump(model,datapath+\"Classic_SVM_safe.sav\")"
   ]
  },
  {
   "cell_type": "markdown",
   "id": "41ba7464",
   "metadata": {},
   "source": [
    "## 2) Probabilistic Safety Region"
   ]
  },
  {
   "cell_type": "code",
   "execution_count": 12,
   "id": "f97d66cf",
   "metadata": {},
   "outputs": [
    {
     "data": {
      "text/plain": [
       "{'alpha': array([ 5.00152384e-01,  4.99955933e-01,  4.99933726e-01, ...,\n",
       "         5.00076805e-01,  4.99889858e-01, -3.62958554e-05]),\n",
       " 'b': array([-0.07530299]),\n",
       " 'b_eps': 0.478433293925167,\n",
       " 'eta': 0.3,\n",
       " 'kernel': 'gaussian',\n",
       " 'param': 0.5,\n",
       " 'tau': array([[0.5]]),\n",
       " 'solver': 'osqp'}"
      ]
     },
     "execution_count": 12,
     "metadata": {},
     "output_type": "execute_result"
    }
   ],
   "source": [
    "model = model.FPcontrol(Xcal, Ycal, epsilon,'ps')\n",
    "model.get_params()"
   ]
  },
  {
   "cell_type": "code",
   "execution_count": 13,
   "id": "42adb709",
   "metadata": {},
   "outputs": [
    {
     "data": {
      "image/png": "[encoded data removed]",
      "text/plain": [
       "<Figure size 640x480 with 2 Axes>"
      ]
     },
     "metadata": {},
     "output_type": "display_data"
    },
    {
     "name": "stdout",
     "output_type": "stream",
     "text": [
      "ACC = 0.779, F1 = 0.7700312174817898, PPV = 0.891566265060241, NPV = 0.6991452991452991, TPR = 0.6776556776556777, TNR = 0.9008810572687225, FPR = 0.09911894273127753, FNR = 0.32234432234432236\n",
      "\n",
      "TP = 370, FP = 45, TN = 409, FN = 176\n"
     ]
    }
   ],
   "source": [
    "metricsPSR = EvaluateModel(model, Xts, Yts, f\"SVM with {model.method} method\")"
   ]
  },
  {
   "cell_type": "code",
   "execution_count": 14,
   "id": "c7074299-60e4-4aa1-9107-6dd84bfb341f",
   "metadata": {},
   "outputs": [
    {
     "data": {
      "text/plain": [
       "['simulationVictor/PS_SVM_safe.sav']"
      ]
     },
     "execution_count": 14,
     "metadata": {},
     "output_type": "execute_result"
    }
   ],
   "source": [
    "joblib.dump(model,datapath+\"PS_SVM_safe.sav\")"
   ]
  },
  {
   "cell_type": "code",
   "execution_count": 15,
   "id": "879ad375-3a43-43b0-8c27-c39285782dc6",
   "metadata": {},
   "outputs": [],
   "source": [
    "# save to file\n",
    "y_ps_tr = model.predict(Xtr).reshape((len(Xtr),1))\n",
    "y_ps_cal = model.predict(Xcal).reshape((len(Xcal),1))\n",
    "y_ps_ts = model.predict(Xts).reshape((len(Xts),1))\n",
    "\n",
    "train = pd.DataFrame(np.hstack((Xtr,Ytr,y_ps_tr)), columns = [\"SafetyMargin\",\"Eta\",\"Tau\",\"y_true\",\"y_conformal\"])\n",
    "calib = pd.DataFrame(np.hstack((Xcal,Ycal,y_ps_cal)), columns = [\"SafetyMargin\",\"Eta\",\"Tau\",\"y_true\",\"y_conformal\"])\n",
    "test = pd.DataFrame(np.hstack((Xts,Yts,y_ps_ts)), columns = [\"SafetyMargin\",\"Eta\",\"Tau\",\"y_true\",\"y_conformal\"])\n",
    "train.to_csv(datapath+\"train_ps.csv\", index = False)\n",
    "calib.to_csv(datapath+\"calib_ps.csv\", index = False)\n",
    "test.to_csv(datapath+\"test_ps.csv\", index = False)"
   ]
  },
  {
   "cell_type": "markdown",
   "id": "afaee004-d533-4fcd-bfaf-c4793abd8963",
   "metadata": {},
   "source": [
    "# 3) Conformal Safety Regions\n"
   ]
  },
  {
   "cell_type": "code",
   "execution_count": 16,
   "id": "90c98e62-12bf-4cc6-a06f-043a4d08d67d",
   "metadata": {},
   "outputs": [
    {
     "data": {
      "text/plain": [
       "{'alpha': array([ 5.00152384e-01,  4.99955933e-01,  4.99933726e-01, ...,\n",
       "         5.00076805e-01,  4.99889858e-01, -3.62958554e-05]),\n",
       " 'b': array([-0.07530299]),\n",
       " 'b_eps': 0.441391261831367,\n",
       " 'eta': 0.3,\n",
       " 'kernel': 'gaussian',\n",
       " 'param': 0.5,\n",
       " 'tau': array([[0.5]]),\n",
       " 'solver': 'osqp'}"
      ]
     },
     "execution_count": 16,
     "metadata": {},
     "output_type": "execute_result"
    }
   ],
   "source": [
    "model = model.FPcontrol(Xcal, Ycal, 0.1,'cp')\n",
    "model.get_params()"
   ]
  },
  {
   "cell_type": "code",
   "execution_count": 17,
   "id": "81b80e26-65ce-4669-b560-b0a597f97d50",
   "metadata": {},
   "outputs": [
    {
     "data": {
      "image/png": "[encoded data removed]",
      "text/plain": [
       "<Figure size 640x480 with 2 Axes>"
      ]
     },
     "metadata": {},
     "output_type": "display_data"
    },
    {
     "name": "stdout",
     "output_type": "stream",
     "text": [
      "ACC = 0.785, F1 = 0.7781217750257998, PPV = 0.8912529550827423, NPV = 0.707105719237435, TPR = 0.6904761904761905, TNR = 0.8986784140969163, FPR = 0.1013215859030837, FNR = 0.30952380952380953\n",
      "\n",
      "TP = 377, FP = 46, TN = 408, FN = 169\n"
     ]
    }
   ],
   "source": [
    "metricsCSR = EvaluateModel(model, Xts, Yts, f\"SVM with {model.method} method\")"
   ]
  },
  {
   "cell_type": "code",
   "execution_count": 18,
   "id": "0ca2a3ba-3918-4de0-bd70-ce46b4c59a77",
   "metadata": {},
   "outputs": [
    {
     "data": {
      "text/plain": [
       "['simulationVictor/CP_SVM_safe.sav']"
      ]
     },
     "execution_count": 18,
     "metadata": {},
     "output_type": "execute_result"
    }
   ],
   "source": [
    "joblib.dump(model,datapath+\"CP_SVM_safe.sav\")"
   ]
  },
  {
   "cell_type": "code",
   "execution_count": 19,
   "id": "57d805ea-257a-45b0-b925-bd60ec645907",
   "metadata": {},
   "outputs": [],
   "source": [
    "# save to file\n",
    "y_ps_tr = model.predict(Xtr).reshape((len(Xtr),1))\n",
    "y_ps_cal = model.predict(Xcal).reshape((len(Xcal),1))\n",
    "y_ps_ts = model.predict(Xts).reshape((len(Xts),1))\n",
    "\n",
    "train = pd.DataFrame(np.hstack((Xtr,Ytr,y_ps_tr)), columns = [\"SafetyMargin\",\"Eta\",\"Tau\",\"y_true\",\"y_conformal\"])\n",
    "calib = pd.DataFrame(np.hstack((Xcal,Ycal,y_ps_cal)), columns = [\"SafetyMargin\",\"Eta\",\"Tau\",\"y_true\",\"y_conformal\"])\n",
    "test = pd.DataFrame(np.hstack((Xts,Yts,y_ps_ts)), columns = [\"SafetyMargin\",\"Eta\",\"Tau\",\"y_true\",\"y_conformal\"])\n",
    "train.to_csv(datapath+\"train_cp.csv\", index = False)\n",
    "calib.to_csv(datapath+\"calib_cp.csv\", index = False)\n",
    "test.to_csv(datapath+\"test_cp.csv\", index = False)"
   ]
  }
 ],
 "metadata": {
  "kernelspec": {
   "display_name": "Python 3 (ipykernel)",
   "language": "python",
   "name": "python3"
  },
  "language_info": {
   "codemirror_mode": {
    "name": "ipython",
    "version": 3
   },
   "file_extension": ".py",
   "mimetype": "text/x-python",
   "name": "python",
   "nbconvert_exporter": "python",
   "pygments_lexer": "ipython3",
   "version": "3.10.12"
  },
  "varInspector": {
   "cols": {
    "lenName": 16,
    "lenType": 16,
    "lenVar": 40
   },
   "kernels_config": {
    "python": {
     "delete_cmd_postfix": "",
     "delete_cmd_prefix": "del ",
     "library": "var_list.py",
     "varRefreshCmd": "print(var_dic_list())"
    },
    "r": {
     "delete_cmd_postfix": ") ",
     "delete_cmd_prefix": "rm(",
     "library": "var_list.r",
     "varRefreshCmd": "cat(var_dic_list()) "
    }
   },
   "types_to_exclude": [
    "module",
    "function",
    "builtin_function_or_method",
    "instance",
    "_Feature"
   ],
   "window_display": false
  }
 },
 "nbformat": 4,
 "nbformat_minor": 5
}
