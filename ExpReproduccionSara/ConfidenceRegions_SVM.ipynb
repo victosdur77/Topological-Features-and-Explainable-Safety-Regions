{
 "cells": [
  {
   "cell_type": "code",
   "execution_count": 1,
   "id": "51a68309",
   "metadata": {},
   "outputs": [],
   "source": [
    "import pandas as pd\n",
    "import seaborn as sns\n",
    "import numpy as np\n",
    "import time\n",
    "\n",
    "import matplotlib.pyplot as plt\n",
    "\n",
    "import scipy\n",
    "from scipy import linalg\n",
    "\n",
    "from sklearn.metrics import confusion_matrix\n",
    "from sklearn.model_selection import train_test_split\n",
    "\n",
    "from WrapScalableSVM import *\n",
    "from Utils_SSVM import *\n",
    "from utilsData import *\n",
    "from modelEvaluation import *\n",
    "from utilsPlot import *\n",
    "\n",
    "import joblib"
   ]
  },
  {
   "cell_type": "markdown",
   "id": "c2305380-34f7-4673-9264-bd4a1eded487",
   "metadata": {},
   "source": [
    "# Tests for the xAI-2024 conference paper\n",
    "# Load datasets"
   ]
  },
  {
   "cell_type": "code",
   "execution_count": 2,
   "id": "38245c21",
   "metadata": {},
   "outputs": [],
   "source": [
    "datapath = \"simulationVictor/\"\n",
    "train = \"train.csv\"\n",
    "test = \"test.csv\"\n",
    "cal = \"calib.csv\""
   ]
  },
  {
   "cell_type": "code",
   "execution_count": 3,
   "id": "2c91a943",
   "metadata": {},
   "outputs": [
    {
     "data": {
      "text/html": [
       "<div>\n",
       "<style scoped>\n",
       "    .dataframe tbody tr th:only-of-type {\n",
       "        vertical-align: middle;\n",
       "    }\n",
       "\n",
       "    .dataframe tbody tr th {\n",
       "        vertical-align: top;\n",
       "    }\n",
       "\n",
       "    .dataframe thead th {\n",
       "        text-align: right;\n",
       "    }\n",
       "</style>\n",
       "<table border=\"1\" class=\"dataframe\">\n",
       "  <thead>\n",
       "    <tr style=\"text-align: right;\">\n",
       "      <th></th>\n",
       "      <th>SafetyMargin</th>\n",
       "      <th>Eta</th>\n",
       "      <th>Tau</th>\n",
       "      <th>output</th>\n",
       "    </tr>\n",
       "  </thead>\n",
       "  <tbody>\n",
       "    <tr>\n",
       "      <th>0</th>\n",
       "      <td>0.056157</td>\n",
       "      <td>0.374912</td>\n",
       "      <td>0.912839</td>\n",
       "      <td>17</td>\n",
       "    </tr>\n",
       "    <tr>\n",
       "      <th>1</th>\n",
       "      <td>0.033138</td>\n",
       "      <td>0.165715</td>\n",
       "      <td>0.824695</td>\n",
       "      <td>97</td>\n",
       "    </tr>\n",
       "    <tr>\n",
       "      <th>2</th>\n",
       "      <td>0.055506</td>\n",
       "      <td>0.932224</td>\n",
       "      <td>0.866350</td>\n",
       "      <td>12</td>\n",
       "    </tr>\n",
       "    <tr>\n",
       "      <th>3</th>\n",
       "      <td>0.030694</td>\n",
       "      <td>0.709492</td>\n",
       "      <td>0.017845</td>\n",
       "      <td>0</td>\n",
       "    </tr>\n",
       "    <tr>\n",
       "      <th>4</th>\n",
       "      <td>0.095292</td>\n",
       "      <td>0.434869</td>\n",
       "      <td>0.102331</td>\n",
       "      <td>0</td>\n",
       "    </tr>\n",
       "    <tr>\n",
       "      <th>...</th>\n",
       "      <td>...</td>\n",
       "      <td>...</td>\n",
       "      <td>...</td>\n",
       "      <td>...</td>\n",
       "    </tr>\n",
       "    <tr>\n",
       "      <th>3995</th>\n",
       "      <td>0.034414</td>\n",
       "      <td>0.279374</td>\n",
       "      <td>0.001819</td>\n",
       "      <td>0</td>\n",
       "    </tr>\n",
       "    <tr>\n",
       "      <th>3996</th>\n",
       "      <td>0.057528</td>\n",
       "      <td>0.323413</td>\n",
       "      <td>0.425907</td>\n",
       "      <td>0</td>\n",
       "    </tr>\n",
       "    <tr>\n",
       "      <th>3997</th>\n",
       "      <td>0.051730</td>\n",
       "      <td>0.317743</td>\n",
       "      <td>0.526581</td>\n",
       "      <td>0</td>\n",
       "    </tr>\n",
       "    <tr>\n",
       "      <th>3998</th>\n",
       "      <td>0.087183</td>\n",
       "      <td>0.533024</td>\n",
       "      <td>0.220642</td>\n",
       "      <td>0</td>\n",
       "    </tr>\n",
       "    <tr>\n",
       "      <th>3999</th>\n",
       "      <td>0.049468</td>\n",
       "      <td>0.821149</td>\n",
       "      <td>0.917964</td>\n",
       "      <td>1</td>\n",
       "    </tr>\n",
       "  </tbody>\n",
       "</table>\n",
       "<p>4000 rows × 4 columns</p>\n",
       "</div>"
      ],
      "text/plain": [
       "      SafetyMargin       Eta       Tau  output\n",
       "0         0.056157  0.374912  0.912839      17\n",
       "1         0.033138  0.165715  0.824695      97\n",
       "2         0.055506  0.932224  0.866350      12\n",
       "3         0.030694  0.709492  0.017845       0\n",
       "4         0.095292  0.434869  0.102331       0\n",
       "...            ...       ...       ...     ...\n",
       "3995      0.034414  0.279374  0.001819       0\n",
       "3996      0.057528  0.323413  0.425907       0\n",
       "3997      0.051730  0.317743  0.526581       0\n",
       "3998      0.087183  0.533024  0.220642       0\n",
       "3999      0.049468  0.821149  0.917964       1\n",
       "\n",
       "[4000 rows x 4 columns]"
      ]
     },
     "execution_count": 3,
     "metadata": {},
     "output_type": "execute_result"
    }
   ],
   "source": [
    "dbtrain = pd.read_csv(datapath+train)\n",
    "dbtest = pd.read_csv(datapath+test)\n",
    "dbcal = pd.read_csv(datapath+cal)\n",
    "dbtrain"
   ]
  },
  {
   "cell_type": "markdown",
   "id": "69c6a310-acaa-443f-bb3a-172bf744c3df",
   "metadata": {},
   "source": [
    "Separate features and labels, and convert label 0 with 1 and 1 with -1"
   ]
  },
  {
   "cell_type": "code",
   "execution_count": 4,
   "id": "fbff073b",
   "metadata": {},
   "outputs": [],
   "source": [
    "Xtr = dbtrain[['SafetyMargin', 'Eta', 'Tau']].values\n",
    "Ytr = dbtrain[['output']].values\n",
    "Ytr[Ytr>1] = -1\n",
    "Ytr[Ytr==0] = 1\n",
    "\n",
    "Xts = dbtest[['SafetyMargin', 'Eta', 'Tau']].values\n",
    "Yts = dbtest[['output']].values\n",
    "Yts[Yts>1] = -1\n",
    "Yts[Yts==0] = 1\n",
    "\n",
    "Xcal = dbcal[['SafetyMargin', 'Eta', 'Tau']].values\n",
    "Ycal = dbcal[['output']].values\n",
    "Ycal[Ycal>1] = -1\n",
    "Ycal[Ycal==0] = 1"
   ]
  },
  {
   "cell_type": "code",
   "execution_count": 14,
   "id": "dc6650c6-90f5-4939-8af2-d5e621e1a2c7",
   "metadata": {},
   "outputs": [
    {
     "name": "stdout",
     "output_type": "stream",
     "text": [
      "<class 'pandas.core.frame.DataFrame'>\n",
      "RangeIndex: 4000 entries, 0 to 3999\n",
      "Data columns (total 4 columns):\n",
      " #   Column        Non-Null Count  Dtype  \n",
      "---  ------        --------------  -----  \n",
      " 0   SafetyMargin  4000 non-null   float64\n",
      " 1   Eta           4000 non-null   float64\n",
      " 2   Tau           4000 non-null   float64\n",
      " 3   output        4000 non-null   int64  \n",
      "dtypes: float64(3), int64(1)\n",
      "memory usage: 125.1 KB\n",
      "None\n",
      "float64\n"
     ]
    },
    {
     "data": {
      "text/plain": [
       "dtype('int64')"
      ]
     },
     "execution_count": 14,
     "metadata": {},
     "output_type": "execute_result"
    }
   ],
   "source": [
    "print(dbtrain.info())\n",
    "print(Xtr.dtype)\n",
    "Ytr.dtype"
   ]
  },
  {
   "cell_type": "markdown",
   "id": "0fc1f946-cccd-48b7-9c7c-8e14c369796b",
   "metadata": {},
   "source": [
    "# SVM parameters setting"
   ]
  },
  {
   "cell_type": "code",
   "execution_count": 15,
   "id": "72958a2c",
   "metadata": {},
   "outputs": [],
   "source": [
    "# Parameters settings\n",
    "kernel = \"polynomial\"\n",
    "param = 3\n",
    "tau = np.array([[0.5]])\n",
    "eta = 0.3"
   ]
  },
  {
   "cell_type": "markdown",
   "id": "04a74aac-8451-4a11-a449-b4ca9d1614f2",
   "metadata": {},
   "source": [
    "# Scaling setting"
   ]
  },
  {
   "cell_type": "code",
   "execution_count": 16,
   "id": "d28da3cc-0a13-4b92-b1ef-551cf0788545",
   "metadata": {},
   "outputs": [],
   "source": [
    "epsilon = 0.1"
   ]
  },
  {
   "cell_type": "markdown",
   "id": "da3ee4d4",
   "metadata": {},
   "source": [
    "## 1) Classic SVM"
   ]
  },
  {
   "cell_type": "code",
   "execution_count": 17,
   "id": "c0098a9c",
   "metadata": {},
   "outputs": [
    {
     "name": "stdout",
     "output_type": "stream",
     "text": [
      "Elapsed time: 45.85892295837402 seconds\n"
     ]
    }
   ],
   "source": [
    "start_time = time.time()\n",
    "\n",
    "model = ScalableSVMClassifier(eta, kernel, param, tau)\n",
    "\n",
    "model = model.fit(Xtr,Ytr)\n",
    "joblib.dump(model, datapath+\"classicSVM_safeEff.sav\")\n",
    "end_time = time.time()\n",
    "\n",
    "elapsed_time = end_time - start_time\n",
    "\n",
    "print(f\"Elapsed time: {elapsed_time} seconds\")"
   ]
  },
  {
   "cell_type": "code",
   "execution_count": 11,
   "id": "21d2b59f",
   "metadata": {},
   "outputs": [
    {
     "data": {
      "text/plain": [
       "{'alpha': array([-3.60960298e-05, -5.94496368e-06,  4.99781884e-01, ...,\n",
       "         4.99959117e-01, -3.87267241e-05,  5.00202682e-01]),\n",
       " 'b': array([-0.12019627]),\n",
       " 'b_eps': 0,\n",
       " 'eta': 0.3,\n",
       " 'kernel': 'polynomial',\n",
       " 'param': 3,\n",
       " 'tau': array([[0.5]]),\n",
       " 'solver': 'osqp'}"
      ]
     },
     "execution_count": 11,
     "metadata": {},
     "output_type": "execute_result"
    }
   ],
   "source": [
    "model = model.FPcontrol(Xcal, Ycal, epsilon,'classic')\n",
    "model.get_params()"
   ]
  },
  {
   "cell_type": "code",
   "execution_count": 12,
   "id": "76553068",
   "metadata": {},
   "outputs": [
    {
     "data": {
      "image/png": "[encoded data removed]",
      "text/plain": [
       "<Figure size 640x480 with 2 Axes>"
      ]
     },
     "metadata": {},
     "output_type": "display_data"
    },
    {
     "name": "stdout",
     "output_type": "stream",
     "text": [
      "ACC = 0.841, F1 = 0.8618592528236316, PPV = 0.8225538971807629, NPV = 0.8690176322418136, TPR = 0.9051094890510949, TNR = 0.7632743362831859, FPR = 0.23672566371681417, FNR = 0.0948905109489051\n",
      "\n",
      "TP = 496, FP = 107, TN = 345, FN = 52\n"
     ]
    }
   ],
   "source": [
    "metricsClassic = EvaluateModel(model, Xts, Yts, f\"SVM with {model.method} method\")\n"
   ]
  },
  {
   "cell_type": "code",
   "execution_count": 13,
   "id": "4c8afd10-5d9b-409e-87ff-77c32efa91b6",
   "metadata": {},
   "outputs": [
    {
     "data": {
      "text/plain": [
       "['simulationVictor/Classic_SVM_safe.sav']"
      ]
     },
     "execution_count": 13,
     "metadata": {},
     "output_type": "execute_result"
    }
   ],
   "source": [
    "joblib.dump(model,datapath+\"Classic_SVM_safe.sav\")"
   ]
  },
  {
   "cell_type": "markdown",
   "id": "41ba7464",
   "metadata": {},
   "source": [
    "## 2) Probabilistic Safety Region"
   ]
  },
  {
   "cell_type": "code",
   "execution_count": 14,
   "id": "f97d66cf",
   "metadata": {},
   "outputs": [
    {
     "data": {
      "text/plain": [
       "0.2418774891053671"
      ]
     },
     "execution_count": 14,
     "metadata": {},
     "output_type": "execute_result"
    }
   ],
   "source": [
    "model = model.FPcontrol(Xcal, Ycal, epsilon,'ps')\n",
    "model.get_params()"
   ]
  },
  {
   "cell_type": "code",
   "execution_count": 16,
   "id": "42adb709",
   "metadata": {},
   "outputs": [
    {
     "data": {
      "image/png": "[encoded data removed]",
      "text/plain": [
       "<Figure size 640x480 with 2 Axes>"
      ]
     },
     "metadata": {},
     "output_type": "display_data"
    },
    {
     "name": "stdout",
     "output_type": "stream",
     "text": [
      "ACC = 0.846, F1 = 0.8549905838041432, PPV = 0.8832684824902723, NPV = 0.8065843621399177, TPR = 0.8284671532846716, TNR = 0.8672566371681416, FPR = 0.13274336283185842, FNR = 0.17153284671532848\n",
      "\n",
      "TP = 454, FP = 60, TN = 392, FN = 94\n"
     ]
    }
   ],
   "source": [
    "metricsPSR = EvaluateModel(model, Xts, Yts, f\"SVM with {model.method} method\")"
   ]
  },
  {
   "cell_type": "code",
   "execution_count": 17,
   "id": "c7074299-60e4-4aa1-9107-6dd84bfb341f",
   "metadata": {},
   "outputs": [
    {
     "data": {
      "text/plain": [
       "['simulationVictor/PS_SVM_safe.sav']"
      ]
     },
     "execution_count": 17,
     "metadata": {},
     "output_type": "execute_result"
    }
   ],
   "source": [
    "joblib.dump(model,datapath+\"PS_SVM_safe.sav\")"
   ]
  },
  {
   "cell_type": "code",
   "execution_count": 18,
   "id": "879ad375-3a43-43b0-8c27-c39285782dc6",
   "metadata": {},
   "outputs": [],
   "source": [
    "# save to file\n",
    "y_ps_tr = model.predict(Xtr).reshape((len(Xtr),1))\n",
    "y_ps_cal = model.predict(Xcal).reshape((len(Xcal),1))\n",
    "y_ps_ts = model.predict(Xts).reshape((len(Xts),1))\n",
    "\n",
    "train = pd.DataFrame(np.hstack((Xtr,Ytr,y_ps_tr)), columns = [\"SafetyMargin\",\"Eta\",\"Tau\",\"y_true\",\"y_conformal\"])\n",
    "calib = pd.DataFrame(np.hstack((Xcal,Ycal,y_ps_cal)), columns = [\"SafetyMargin\",\"Eta\",\"Tau\",\"y_true\",\"y_conformal\"])\n",
    "test = pd.DataFrame(np.hstack((Xts,Yts,y_ps_ts)), columns = [\"SafetyMargin\",\"Eta\",\"Tau\",\"y_true\",\"y_conformal\"])\n",
    "train.to_csv(datapath+\"train_ps.csv\", index = False)\n",
    "calib.to_csv(datapath+\"calib_ps.csv\", index = False)\n",
    "test.to_csv(datapath+\"test_ps.csv\", index = False)"
   ]
  },
  {
   "cell_type": "markdown",
   "id": "afaee004-d533-4fcd-bfaf-c4793abd8963",
   "metadata": {},
   "source": [
    "# 3) Conformal Safety Regions\n"
   ]
  },
  {
   "cell_type": "code",
   "execution_count": 22,
   "id": "90c98e62-12bf-4cc6-a06f-043a4d08d67d",
   "metadata": {},
   "outputs": [
    {
     "data": {
      "text/plain": [
       "{'alpha': array([-3.60960298e-05, -5.94496368e-06,  4.99781884e-01, ...,\n",
       "         4.99959117e-01, -3.87267241e-05,  5.00202682e-01]),\n",
       " 'b': array([-0.12019627]),\n",
       " 'b_eps': 0.16828101780637864,\n",
       " 'eta': 0.3,\n",
       " 'kernel': 'polynomial',\n",
       " 'param': 3,\n",
       " 'tau': array([[0.5]]),\n",
       " 'solver': 'osqp'}"
      ]
     },
     "execution_count": 22,
     "metadata": {},
     "output_type": "execute_result"
    }
   ],
   "source": [
    "model = model.FPcontrol(Xcal, Ycal, 0.1,'cp')\n",
    "model.get_params()"
   ]
  },
  {
   "cell_type": "code",
   "execution_count": 23,
   "id": "81b80e26-65ce-4669-b560-b0a597f97d50",
   "metadata": {},
   "outputs": [
    {
     "data": {
      "image/png": "[encoded data removed]",
      "text/plain": [
       "<Figure size 640x480 with 2 Axes>"
      ]
     },
     "metadata": {},
     "output_type": "display_data"
    },
    {
     "name": "stdout",
     "output_type": "stream",
     "text": [
      "ACC = 0.848, F1 = 0.860036832412523, PPV = 0.8680297397769516, NPV = 0.8246753246753247, TPR = 0.8521897810218978, TNR = 0.8429203539823009, FPR = 0.1570796460176991, FNR = 0.1478102189781022\n",
      "\n",
      "TP = 467, FP = 71, TN = 381, FN = 81\n"
     ]
    }
   ],
   "source": [
    "metricsCSR = EvaluateModel(model, Xts, Yts, f\"SVM with {model.method} method\")"
   ]
  },
  {
   "cell_type": "code",
   "execution_count": 24,
   "id": "0ca2a3ba-3918-4de0-bd70-ce46b4c59a77",
   "metadata": {},
   "outputs": [
    {
     "data": {
      "text/plain": [
       "['simulationVictor/CP_SVM_safe.sav']"
      ]
     },
     "execution_count": 24,
     "metadata": {},
     "output_type": "execute_result"
    }
   ],
   "source": [
    "joblib.dump(model,datapath+\"CP_SVM_safe.sav\")"
   ]
  },
  {
   "cell_type": "code",
   "execution_count": 25,
   "id": "57d805ea-257a-45b0-b925-bd60ec645907",
   "metadata": {},
   "outputs": [],
   "source": [
    "# save to file\n",
    "y_ps_tr = model.predict(Xtr).reshape((len(Xtr),1))\n",
    "y_ps_cal = model.predict(Xcal).reshape((len(Xcal),1))\n",
    "y_ps_ts = model.predict(Xts).reshape((len(Xts),1))\n",
    "\n",
    "train = pd.DataFrame(np.hstack((Xtr,Ytr,y_ps_tr)), columns = [\"SafetyMargin\",\"Eta\",\"Tau\",\"y_true\",\"y_conformal\"])\n",
    "calib = pd.DataFrame(np.hstack((Xcal,Ycal,y_ps_cal)), columns = [\"SafetyMargin\",\"Eta\",\"Tau\",\"y_true\",\"y_conformal\"])\n",
    "test = pd.DataFrame(np.hstack((Xts,Yts,y_ps_ts)), columns = [\"SafetyMargin\",\"Eta\",\"Tau\",\"y_true\",\"y_conformal\"])\n",
    "train.to_csv(datapath+\"train_cp.csv\", index = False)\n",
    "calib.to_csv(datapath+\"calib_cp.csv\", index = False)\n",
    "test.to_csv(datapath+\"test_cp.csv\", index = False)"
   ]
  }
 ],
 "metadata": {
  "kernelspec": {
   "display_name": "Python 3 (ipykernel)",
   "language": "python",
   "name": "python3"
  },
  "language_info": {
   "codemirror_mode": {
    "name": "ipython",
    "version": 3
   },
   "file_extension": ".py",
   "mimetype": "text/x-python",
   "name": "python",
   "nbconvert_exporter": "python",
   "pygments_lexer": "ipython3",
   "version": "3.10.12"
  },
  "varInspector": {
   "cols": {
    "lenName": 16,
    "lenType": 16,
    "lenVar": 40
   },
   "kernels_config": {
    "python": {
     "delete_cmd_postfix": "",
     "delete_cmd_prefix": "del ",
     "library": "var_list.py",
     "varRefreshCmd": "print(var_dic_list())"
    },
    "r": {
     "delete_cmd_postfix": ") ",
     "delete_cmd_prefix": "rm(",
     "library": "var_list.r",
     "varRefreshCmd": "cat(var_dic_list()) "
    }
   },
   "types_to_exclude": [
    "module",
    "function",
    "builtin_function_or_method",
    "instance",
    "_Feature"
   ],
   "window_display": false
  }
 },
 "nbformat": 4,
 "nbformat_minor": 5
}
